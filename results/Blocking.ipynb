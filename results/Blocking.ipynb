{
 "cells": [
  {
   "cell_type": "code",
   "execution_count": 30,
   "metadata": {
    "collapsed": true
   },
   "outputs": [],
   "source": [
    "import numpy as np\n",
    "import matplotlib.pyplot as plt\n",
    "import pandas as pd\n",
    "%matplotlib inline\n",
    "# base =  \n",
    "# /"
   ]
  },
  {
   "cell_type": "code",
   "execution_count": 92,
   "metadata": {},
   "outputs": [
    {
     "data": {
      "text/plain": [
       "[<matplotlib.lines.Line2D at 0x7f4517e27c88>]"
      ]
     },
     "execution_count": 92,
     "metadata": {},
     "output_type": "execute_result"
    },
    {
     "data": {
      "image/png": "[encoded data removed]",
      "text/plain": [
       "<matplotlib.figure.Figure at 0x7f4517f55208>"
      ]
     },
     "metadata": {},
     "output_type": "display_data"
    }
   ],
   "source": [
    "base = '../../build-fys4411-Desktop_Qt_5_10_0_GCC_64bit-Debug/Project1/'\n",
    "a = np.loadtxt(base + '/dt_table_test.dat')\n",
    "\n",
    "a\n",
    "# plt.plot(a)\n",
    "\n",
    "dt, energy, accept, timeusage, two = a.T\n",
    "dt\n",
    "\n",
    "fig, [ax1,ax2] = plt.subplots(1,2, figsize = [16,9])\n",
    "\n",
    "ax1.semilogx(dt, energy,'o')\n",
    "ax2.semilogx(dt, accept,'o')"
   ]
  },
  {
   "cell_type": "code",
   "execution_count": 93,
   "metadata": {},
   "outputs": [
    {
     "ename": "TypeError",
     "evalue": "loadtxt() missing 1 required positional argument: 'fname'",
     "output_type": "error",
     "traceback": [
      "\u001b[0;31m---------------------------------------------------------------------------\u001b[0m",
      "\u001b[0;31mTypeError\u001b[0m                                 Traceback (most recent call last)",
      "\u001b[0;32m<ipython-input-93-6583461c676b>\u001b[0m in \u001b[0;36m<module>\u001b[0;34m()\u001b[0m\n\u001b[1;32m      3\u001b[0m \u001b[0mfilenames\u001b[0m \u001b[0;34m=\u001b[0m \u001b[0;34m[\u001b[0m\u001b[0mf\u001b[0m \u001b[0;32mfor\u001b[0m \u001b[0mf\u001b[0m \u001b[0;32min\u001b[0m \u001b[0mglob\u001b[0m\u001b[0;34m.\u001b[0m\u001b[0mglob\u001b[0m\u001b[0;34m(\u001b[0m\u001b[0mbase\u001b[0m  \u001b[0;34m+\u001b[0m \u001b[0;34m'*.dat'\u001b[0m\u001b[0;34m)\u001b[0m \u001b[0;32mif\u001b[0m \u001b[0;32mnot\u001b[0m \u001b[0;34m'dt_table_test'\u001b[0m \u001b[0;32min\u001b[0m \u001b[0mf\u001b[0m\u001b[0;34m]\u001b[0m\u001b[0;34m\u001b[0m\u001b[0m\n\u001b[1;32m      4\u001b[0m \u001b[0;32mfor\u001b[0m \u001b[0mf\u001b[0m \u001b[0;32min\u001b[0m \u001b[0mfilenames\u001b[0m\u001b[0;34m:\u001b[0m\u001b[0;34m\u001b[0m\u001b[0m\n\u001b[0;32m----> 5\u001b[0;31m     \u001b[0mnp\u001b[0m\u001b[0;34m.\u001b[0m\u001b[0mloadtxt\u001b[0m\u001b[0;34m(\u001b[0m\u001b[0;34m)\u001b[0m\u001b[0;34m\u001b[0m\u001b[0m\n\u001b[0m",
      "\u001b[0;31mTypeError\u001b[0m: loadtxt() missing 1 required positional argument: 'fname'"
     ]
    }
   ],
   "source": [
    "import glob\n",
    "\n",
    "filenames = [f for f in glob.glob(base  + '*.dat') if not 'dt_table_test' in f]\n",
    "for f in filenames:\n",
    "    np.loadtxt()"
   ]
  },
  {
   "cell_type": "code",
   "execution_count": 68,
   "metadata": {},
   "outputs": [],
   "source": [
    "def block_mean(vec):\n",
    "    return sum(vec)/len(vec)\n",
    "\n",
    "def meanAndVariance(vec):\n",
    "    mean = np.mean(vec)\n",
    "#     var = np.var(vec)\n",
    "#     mean = sum(vec)/len(vec)\n",
    "    var = sum([i ** 2 for i in vec])/len(vec) - mean*mean\n",
    "    return mean, var\n",
    "\n",
    "outfile =  open('blocking_taskc.txt', 'w')\n",
    "outfile.write(\"#Filename     Energy     Variance \\n\")\n",
    "\n",
    "# import os\n",
    "for filename in filenames: # os.listdir(\"/Users/frida/Happyday/FYS4411/build-Project1-Desktop_Qt_5_9_1_clang_64bit-Release/c_dt_50vals\"):\n",
    "    data = [float( line.rstrip('\\n')) for line in open(filename)]\n",
    "    n_blocks = 200\n",
    "    block_size_min = 100\n",
    "    block_size_max = len(data)/100\n",
    "    block_step = int ((block_size_max - block_size_min + 1) / n_blocks)\n",
    "    mean_vec = []\n",
    "    var_vec = []\n",
    "    block_sizes = []\n",
    "    for i in range(0, n_blocks):\n",
    "        mean_temp_vec = []\n",
    "        start_point = 0\n",
    "        end_point = block_size_min + block_step*i\n",
    "        block_size = end_point\n",
    "        block_sizes.append(block_size)\n",
    "\n",
    "    mean_temp_vec.append(block_mean(data[start_point:end_point]))\n",
    "    start_point = end_point\n",
    "    end_point += block_size_min + block_step*i\n",
    "    mean, var = meanAndVariance(mean_temp_vec)\n",
    "    mean_vec.append(mean)\n",
    "    var_vec.append(np.sqrt(  var/(len(data)/float(block_size) - 1.0)     ))\n",
    "    line = []\n",
    "    mean, var = meanAndVariance(data)\n",
    "    line.append('{} {} {}\\n'.format(filename, mean, var))\n",
    "    outfile.writelines(line)\n",
    "\n",
    "outfile.close()\n",
    "\n",
    "#numerical variance is shit because it scales with the size of h squared, the number of particles and the number of cycles\n"
   ]
  },
  {
   "cell_type": "code",
   "execution_count": 124,
   "metadata": {},
   "outputs": [
    {
     "data": {
      "text/html": [
       "<div>\n",
       "<style>\n",
       "    .dataframe thead tr:only-child th {\n",
       "        text-align: right;\n",
       "    }\n",
       "\n",
       "    .dataframe thead th {\n",
       "        text-align: left;\n",
       "    }\n",
       "\n",
       "    .dataframe tbody tr th {\n",
       "        vertical-align: top;\n",
       "    }\n",
       "</style>\n",
       "<table border=\"1\" class=\"dataframe\">\n",
       "  <thead>\n",
       "    <tr style=\"text-align: right;\">\n",
       "      <th></th>\n",
       "      <th>dt</th>\n",
       "      <th>energy</th>\n",
       "      <th>variance</th>\n",
       "      <th>accept</th>\n",
       "    </tr>\n",
       "  </thead>\n",
       "  <tbody>\n",
       "    <tr>\n",
       "      <th>0</th>\n",
       "      <td>0.000100</td>\n",
       "      <td>15.278491</td>\n",
       "      <td>0.000095</td>\n",
       "      <td>0.999559</td>\n",
       "    </tr>\n",
       "    <tr>\n",
       "      <th>1</th>\n",
       "      <td>0.000261</td>\n",
       "      <td>15.274336</td>\n",
       "      <td>0.000159</td>\n",
       "      <td>0.998707</td>\n",
       "    </tr>\n",
       "    <tr>\n",
       "      <th>2</th>\n",
       "      <td>0.000681</td>\n",
       "      <td>15.273367</td>\n",
       "      <td>0.000132</td>\n",
       "      <td>0.996785</td>\n",
       "    </tr>\n",
       "    <tr>\n",
       "      <th>3</th>\n",
       "      <td>0.001778</td>\n",
       "      <td>15.273871</td>\n",
       "      <td>0.000128</td>\n",
       "      <td>0.991331</td>\n",
       "    </tr>\n",
       "    <tr>\n",
       "      <th>4</th>\n",
       "      <td>0.004642</td>\n",
       "      <td>15.272509</td>\n",
       "      <td>0.000131</td>\n",
       "      <td>0.978088</td>\n",
       "    </tr>\n",
       "    <tr>\n",
       "      <th>5</th>\n",
       "      <td>0.012115</td>\n",
       "      <td>15.271684</td>\n",
       "      <td>0.000116</td>\n",
       "      <td>0.948165</td>\n",
       "    </tr>\n",
       "    <tr>\n",
       "      <th>6</th>\n",
       "      <td>0.031623</td>\n",
       "      <td>15.259614</td>\n",
       "      <td>0.000129</td>\n",
       "      <td>0.890575</td>\n",
       "    </tr>\n",
       "    <tr>\n",
       "      <th>7</th>\n",
       "      <td>0.082540</td>\n",
       "      <td>15.236479</td>\n",
       "      <td>0.000132</td>\n",
       "      <td>0.842363</td>\n",
       "    </tr>\n",
       "    <tr>\n",
       "      <th>8</th>\n",
       "      <td>0.215443</td>\n",
       "      <td>15.192694</td>\n",
       "      <td>0.000149</td>\n",
       "      <td>0.900487</td>\n",
       "    </tr>\n",
       "    <tr>\n",
       "      <th>9</th>\n",
       "      <td>0.562341</td>\n",
       "      <td>14.974238</td>\n",
       "      <td>0.000236</td>\n",
       "      <td>0.999998</td>\n",
       "    </tr>\n",
       "  </tbody>\n",
       "</table>\n",
       "</div>"
      ],
      "text/plain": [
       "         dt     energy  variance    accept\n",
       "0  0.000100  15.278491  0.000095  0.999559\n",
       "1  0.000261  15.274336  0.000159  0.998707\n",
       "2  0.000681  15.273367  0.000132  0.996785\n",
       "3  0.001778  15.273871  0.000128  0.991331\n",
       "4  0.004642  15.272509  0.000131  0.978088\n",
       "5  0.012115  15.271684  0.000116  0.948165\n",
       "6  0.031623  15.259614  0.000129  0.890575\n",
       "7  0.082540  15.236479  0.000132  0.842363\n",
       "8  0.215443  15.192694  0.000149  0.900487\n",
       "9  0.562341  14.974238  0.000236  0.999998"
      ]
     },
     "execution_count": 124,
     "metadata": {},
     "output_type": "execute_result"
    },
    {
     "data": {
      "image/png": "[encoded data removed]",
      "text/plain": [
       "<matplotlib.figure.Figure at 0x7f45173e0320>"
      ]
     },
     "metadata": {},
     "output_type": "display_data"
    }
   ],
   "source": [
    "df = pd.read_csv('blocking_taskc.txt', delim_whitespace=True)\n",
    "df = df.assign(dt = pd.to_numeric(df['#Filename'].str.split('/').str[-1].str.strip('.dat')))\n",
    "df = df.sort_values('dt').reset_index(drop=True)\n",
    "df = df.assign(accept = accept)\n",
    "df = df.drop('#Filename', axis=1)\n",
    "df = df[['dt', 'Energy', 'Variance', 'accept']]\n",
    "df.columns = df.columns.str.lower()\n",
    "\n",
    "\n",
    "df = df[df.dt < 1]\n",
    "# df.plot(x = 'Energy', y = 'Variance')\n",
    "fig, [ax1,ax2]= plt.subplots(1,2,figsize = [8,5])\n",
    "ax1.errorbar(df.dt ,df.energy, marker='o',linestyle=' ', yerr = np.sqrt(np.abs(df.variance)))\n",
    "ax2.semilogx(df.dt ,df.accept, marker='o',linestyle=' ')\n",
    "\n",
    "ax1.set_xscale(\"log\", nonposx='clip')\n",
    "ax2.set_xscale(\"log\", nonposx='clip')\n",
    "df"
   ]
  },
  {
   "cell_type": "code",
   "execution_count": 114,
   "metadata": {},
   "outputs": [
    {
     "data": {
      "text/plain": [
       "'0.20.3'"
      ]
     },
     "execution_count": 114,
     "metadata": {},
     "output_type": "execute_result"
    }
   ],
   "source": [
    "pd.__version__"
   ]
  },
  {
   "cell_type": "code",
   "execution_count": 65,
   "metadata": {
    "scrolled": true
   },
   "outputs": [
    {
     "name": "stdout",
     "output_type": "stream",
     "text": [
      "0.000100\n",
      "0.000261\n",
      "0.000681\n",
      "0.001778\n",
      "0.004642\n",
      "0.012115\n",
      "0.031623\n",
      "0.082540\n",
      "0.215443\n",
      "0.562341\n",
      "1.467799\n",
      "3.831187\n",
      "10.000000\n",
      "\n"
     ]
    }
   ],
   "source": [
    "print((13*\"{:.6f}\\n\").format(*np.logspace(-4,1,13)))"
   ]
  },
  {
   "cell_type": "code",
   "execution_count": 89,
   "metadata": {},
   "outputs": [
    {
     "data": {
      "text/plain": [
       "[<matplotlib.lines.Line2D at 0x7f4517fffb00>]"
      ]
     },
     "execution_count": 89,
     "metadata": {},
     "output_type": "execute_result"
    },
    {
     "data": {
      "image/png": "[encoded data removed]",
      "text/plain": [
       "<matplotlib.figure.Figure at 0x7f4518020080>"
      ]
     },
     "metadata": {},
     "output_type": "display_data"
    }
   ],
   "source": [
    "plt.semilogx(df.dt,np.sqrt(np.abs(df.Variance))/df.Energy,'*')"
   ]
  },
  {
   "cell_type": "code",
   "execution_count": 96,
   "metadata": {},
   "outputs": [
    {
     "data": {
      "text/plain": [
       "['../../build-fys4411-Desktop_Qt_5_10_0_GCC_64bit-Debug/Project1/0.004642.dat',\n",
       " '../../build-fys4411-Desktop_Qt_5_10_0_GCC_64bit-Debug/Project1/0.562341.dat',\n",
       " '../../build-fys4411-Desktop_Qt_5_10_0_GCC_64bit-Debug/Project1/0.000261.dat',\n",
       " '../../build-fys4411-Desktop_Qt_5_10_0_GCC_64bit-Debug/Project1/0.000681.dat',\n",
       " '../../build-fys4411-Desktop_Qt_5_10_0_GCC_64bit-Debug/Project1/3.831187.dat',\n",
       " '../../build-fys4411-Desktop_Qt_5_10_0_GCC_64bit-Debug/Project1/0.082540.dat',\n",
       " '../../build-fys4411-Desktop_Qt_5_10_0_GCC_64bit-Debug/Project1/1.467799.dat',\n",
       " '../../build-fys4411-Desktop_Qt_5_10_0_GCC_64bit-Debug/Project1/0.215443.dat',\n",
       " '../../build-fys4411-Desktop_Qt_5_10_0_GCC_64bit-Debug/Project1/0.001778.dat',\n",
       " '../../build-fys4411-Desktop_Qt_5_10_0_GCC_64bit-Debug/Project1/10.000000.dat',\n",
       " '../../build-fys4411-Desktop_Qt_5_10_0_GCC_64bit-Debug/Project1/0.031623.dat',\n",
       " '../../build-fys4411-Desktop_Qt_5_10_0_GCC_64bit-Debug/Project1/0.012115.dat',\n",
       " '../../build-fys4411-Desktop_Qt_5_10_0_GCC_64bit-Debug/Project1/0.000100.dat']"
      ]
     },
     "execution_count": 96,
     "metadata": {},
     "output_type": "execute_result"
    }
   ],
   "source": [
    "dt, accept\n",
    "df.assign(accept = accept[filenames"
   ]
  },
  {
   "cell_type": "code",
   "execution_count": 126,
   "metadata": {},
   "outputs": [
    {
     "data": {
      "text/plain": [
       "array([  1.00000000e-07,   3.16227766e-07,   1.00000000e-06,\n",
       "         3.16227766e-06,   1.00000000e-05,   3.16227766e-05,\n",
       "         1.00000000e-04,   3.16227766e-04,   1.00000000e-03,\n",
       "         3.16227766e-03,   1.00000000e-02,   3.16227766e-02,\n",
       "         1.00000000e-01,   3.16227766e-01,   1.00000000e+00,\n",
       "         3.16227766e+00,   1.00000000e+01])"
      ]
     },
     "execution_count": 126,
     "metadata": {},
     "output_type": "execute_result"
    }
   ],
   "source": [
    "np.logspace(-7,1,17)"
   ]
  },
  {
   "cell_type": "code",
   "execution_count": null,
   "metadata": {
    "collapsed": true
   },
   "outputs": [],
   "source": []
  },
  {
   "cell_type": "code",
   "execution_count": null,
   "metadata": {
    "collapsed": true
   },
   "outputs": [],
   "source": []
  },
  {
   "cell_type": "code",
   "execution_count": null,
   "metadata": {
    "collapsed": true
   },
   "outputs": [],
   "source": []
  },
  {
   "cell_type": "code",
   "execution_count": null,
   "metadata": {
    "collapsed": true
   },
   "outputs": [],
   "source": []
  },
  {
   "cell_type": "code",
   "execution_count": null,
   "metadata": {
    "collapsed": true
   },
   "outputs": [],
   "source": []
  },
  {
   "cell_type": "code",
   "execution_count": null,
   "metadata": {
    "collapsed": true
   },
   "outputs": [],
   "source": []
  },
  {
   "cell_type": "code",
   "execution_count": null,
   "metadata": {
    "collapsed": true
   },
   "outputs": [],
   "source": []
  },
  {
   "cell_type": "code",
   "execution_count": null,
   "metadata": {
    "collapsed": true
   },
   "outputs": [],
   "source": []
  },
  {
   "cell_type": "code",
   "execution_count": null,
   "metadata": {
    "collapsed": true
   },
   "outputs": [],
   "source": []
  },
  {
   "cell_type": "code",
   "execution_count": null,
   "metadata": {
    "collapsed": true
   },
   "outputs": [],
   "source": []
  },
  {
   "cell_type": "code",
   "execution_count": null,
   "metadata": {
    "collapsed": true
   },
   "outputs": [],
   "source": []
  },
  {
   "cell_type": "code",
   "execution_count": null,
   "metadata": {
    "collapsed": true
   },
   "outputs": [],
   "source": []
  },
  {
   "cell_type": "code",
   "execution_count": null,
   "metadata": {
    "collapsed": true
   },
   "outputs": [],
   "source": []
  },
  {
   "cell_type": "code",
   "execution_count": null,
   "metadata": {
    "collapsed": true
   },
   "outputs": [],
   "source": []
  },
  {
   "cell_type": "code",
   "execution_count": null,
   "metadata": {
    "collapsed": true
   },
   "outputs": [],
   "source": []
  },
  {
   "cell_type": "code",
   "execution_count": null,
   "metadata": {
    "collapsed": true
   },
   "outputs": [],
   "source": []
  },
  {
   "cell_type": "code",
   "execution_count": null,
   "metadata": {
    "collapsed": true
   },
   "outputs": [],
   "source": []
  },
  {
   "cell_type": "code",
   "execution_count": null,
   "metadata": {
    "collapsed": true
   },
   "outputs": [],
   "source": []
  },
  {
   "cell_type": "code",
   "execution_count": null,
   "metadata": {
    "collapsed": true
   },
   "outputs": [],
   "source": []
  }
 ],
 "metadata": {
  "kernelspec": {
   "display_name": "Python 3",
   "language": "python",
   "name": "python3"
  },
  "language_info": {
   "codemirror_mode": {
    "name": "ipython",
    "version": 3
   },
   "file_extension": ".py",
   "mimetype": "text/x-python",
   "name": "python",
   "nbconvert_exporter": "python",
   "pygments_lexer": "ipython3",
   "version": "3.6.3"
  }
 },
 "nbformat": 4,
 "nbformat_minor": 2
}
