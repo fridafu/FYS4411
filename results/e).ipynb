{
 "cells": [
  {
   "cell_type": "code",
   "execution_count": 1,
   "metadata": {
    "collapsed": true
   },
   "outputs": [],
   "source": [
    "import numpy as np\n",
    "import pandas as pd\n",
    "import scipy.constants as consts\n",
    "import matplotlib.pyplot as plt\n",
    "from io import StringIO\n",
    "import glob\n",
    "import os, sys\n",
    "import re\n",
    "plt.rcParams['figure.dpi']= 300"
   ]
  },
  {
   "cell_type": "code",
   "execution_count": 2,
   "metadata": {
    "collapsed": true
   },
   "outputs": [],
   "source": [
    "params = {'legend.fontsize': 'x-large',\n",
    "          'figure.figsize': (10, 5),\n",
    "         'axes.labelsize': 'xx-large',\n",
    "         'axes.titlesize':'xx-large',\n",
    "         'xtick.labelsize':'large',\n",
    "         'ytick.labelsize':'large'}\n",
    "plt.rcParams.update(params)\n",
    "# set wanted parameters for plots"
   ]
  },
  {
   "cell_type": "markdown",
   "metadata": {},
   "source": [
    "# e) Interaction case"
   ]
  },
  {
   "cell_type": "markdown",
   "metadata": {},
   "source": [
    "Read in energies:"
   ]
  },
  {
   "cell_type": "code",
   "execution_count": 27,
   "metadata": {
    "collapsed": true
   },
   "outputs": [],
   "source": [
    "def name_dat_file(directory):\n",
    "    filenames = [f for f in glob.glob(directory + '*.dat') if 'Eint' in f]\n",
    "    return filenames"
   ]
  },
  {
   "cell_type": "code",
   "execution_count": 28,
   "metadata": {},
   "outputs": [
    {
     "ename": "SyntaxError",
     "evalue": "unexpected EOF while parsing (<ipython-input-28-84a5f9a6893a>, line 1)",
     "output_type": "error",
     "traceback": [
      "\u001b[0;36m  File \u001b[0;32m\"<ipython-input-28-84a5f9a6893a>\"\u001b[0;36m, line \u001b[0;32m1\u001b[0m\n\u001b[0;31m    def name_dat_filemain(directory):\u001b[0m\n\u001b[0m                                     ^\u001b[0m\n\u001b[0;31mSyntaxError\u001b[0m\u001b[0;31m:\u001b[0m unexpected EOF while parsing\n"
     ]
    }
   ],
   "source": [
    "def name_dat_filemain(directory):\n",
    "    filenames = [f for f ]"
   ]
  },
  {
   "cell_type": "markdown",
   "metadata": {},
   "source": [
    "Sort the filenames nicely:"
   ]
  },
  {
   "cell_type": "code",
   "execution_count": 4,
   "metadata": {
    "collapsed": true
   },
   "outputs": [],
   "source": [
    "def tryint(s):\n",
    "    try:\n",
    "        return int(s)\n",
    "    except:\n",
    "        return s\n",
    "\n",
    "def alphanum_key(s):\n",
    "    \"\"\" Turn a string into a list of string and number chunks.\n",
    "        \"z23a\" -> [\"z\", 23, \"a\"]\"\"\"\n",
    "    return [ tryint(c) for c in re.split('([0-9]+)', s) ]\n",
    "\n",
    "def sort_nicely(l):\n",
    "    #Sort the given list in the way that humans expect\n",
    "    l.sort(key=alphanum_key)\n",
    "    return l"
   ]
  },
  {
   "cell_type": "code",
   "execution_count": null,
   "metadata": {
    "collapsed": true
   },
   "outputs": [],
   "source": []
  },
  {
   "cell_type": "code",
   "execution_count": null,
   "metadata": {
    "collapsed": true
   },
   "outputs": [],
   "source": []
  },
  {
   "cell_type": "code",
   "execution_count": null,
   "metadata": {
    "collapsed": true
   },
   "outputs": [],
   "source": []
  },
  {
   "cell_type": "markdown",
   "metadata": {},
   "source": [
    "## Read main short file in to a dataframe:"
   ]
  },
  {
   "cell_type": "code",
   "execution_count": 5,
   "metadata": {
    "collapsed": true
   },
   "outputs": [],
   "source": [
    "def matchlist_iter(filename):\n",
    "    column_names = ['energy', 'acceptance', 'timecpu','solver']\n",
    "    df = pd.read_csv(filename,skiprows=5,names=column_names,delim_whitespace=True,comment='#')\n",
    "    return df"
   ]
  },
  {
   "cell_type": "markdown",
   "metadata": {},
   "source": [
    "## Read in energy files:"
   ]
  },
  {
   "cell_type": "code",
   "execution_count": 6,
   "metadata": {
    "collapsed": true
   },
   "outputs": [],
   "source": [
    "def read_Ean_2_df(filenamesmain,filenamean,filenamenum,Ns,dims=1):\n",
    "    newDF = pd.DataFrame() #creates a new dataframe that's empty\n",
    "    mainDF = pd.DataFrame()\n",
    "    column_names = [['energy_num'],['energy_an']]\n",
    "    print(Ns)\n",
    "    energy = pd.DataFrame()\n",
    "    for i in range(len(filenamesmain)):\n",
    "        temp = pd.DataFrame()\n",
    "        main = matchlist_iter(filenamesmain[i])\n",
    "        main = main.assign(N=Ns[i]*np.ones(len(main)))\n",
    "        main = main.assign(dim=dims * np.ones(len(main)))\n",
    "        temp['E_an'] = pd.read_csv(filenamean[i])\n",
    "        temp = temp.assign(N=Ns[i]*np.ones(len(temp)))\n",
    "        temp = temp.assign(dim=dims * np.ones(len(temp)))\n",
    "        mainDF = mainDF.append(main,ignore_index=True)\n",
    "        temp['E_n'] = pd.read_csv(filenamenum[i],delim_whitespace=True,usecols=[0])\n",
    "        energy = energy.append(temp,ignore_index=True)\n",
    "    return mainDF, energy\n"
   ]
  },
  {
   "cell_type": "markdown",
   "metadata": {},
   "source": [
    "### Make the dataframe drop uneccesary columns"
   ]
  },
  {
   "cell_type": "code",
   "execution_count": 7,
   "metadata": {
    "collapsed": true
   },
   "outputs": [],
   "source": [
    "def col_on_u(data):\n",
    "    newcols = ['alpha', 'E_mean_an', 'std_b','acceptance', 'timecpu']\n",
    "    return data[newcols]\n",
    " "
   ]
  },
  {
   "cell_type": "code",
   "execution_count": null,
   "metadata": {
    "collapsed": true
   },
   "outputs": [],
   "source": []
  },
  {
   "cell_type": "code",
   "execution_count": null,
   "metadata": {
    "collapsed": true
   },
   "outputs": [],
   "source": []
  },
  {
   "cell_type": "markdown",
   "metadata": {},
   "source": [
    "## Blocking"
   ]
  },
  {
   "cell_type": "code",
   "execution_count": 8,
   "metadata": {
    "collapsed": true
   },
   "outputs": [],
   "source": [
    "def block_mean(vec):\n",
    "    return sum(vec)/len(vec)\n",
    "\n",
    "def meanAndVariance(vec):\n",
    "    mean = np.mean(vec)\n",
    "    var = sum([i ** 2 for i in vec])/len(vec) - mean*mean\n",
    "    return mean, var"
   ]
  },
  {
   "cell_type": "code",
   "execution_count": 9,
   "metadata": {
    "collapsed": true
   },
   "outputs": [],
   "source": [
    "def everything_is_awesome(data): # does the blocking on the dataframe\n",
    "    n_blocks = 200\n",
    "    block_size_min = 100\n",
    "    block_size_max = len(data)/100\n",
    "    block_step = int ((block_size_max - block_size_min + 1) / n_blocks)\n",
    "    mean_vec = []\n",
    "    var_vec = []\n",
    "    block_sizes = []\n",
    "    for i in range(0, n_blocks):\n",
    "        mean_temp_vec = []\n",
    "        start_point = 0\n",
    "        end_point = block_size_min + block_step*i\n",
    "        block_size = end_point\n",
    "        block_sizes.append(block_size)\n",
    "\n",
    "    mean_temp_vec.append(block_mean(data[start_point:end_point]))\n",
    "    start_point = end_point\n",
    "    end_point += block_size_min + block_step*i\n",
    "    mean, var = meanAndVariance(mean_temp_vec)\n",
    "    mean_vec.append(mean)\n",
    "    var_vec.append(np.sqrt(var/(len(data)/float(block_size) - 1.0)))\n",
    "\n",
    "    mean, var = meanAndVariance(data)\n",
    "\n",
    "    return mean,var"
   ]
  },
  {
   "cell_type": "code",
   "execution_count": null,
   "metadata": {
    "collapsed": true
   },
   "outputs": [],
   "source": []
  },
  {
   "cell_type": "code",
   "execution_count": null,
   "metadata": {
    "collapsed": true
   },
   "outputs": [],
   "source": []
  },
  {
   "cell_type": "markdown",
   "metadata": {},
   "source": [
    "## Make $\\LaTeX$ tables"
   ]
  },
  {
   "cell_type": "code",
   "execution_count": 10,
   "metadata": {
    "collapsed": true
   },
   "outputs": [],
   "source": [
    "def latex(df,colname):\n",
    "    df = df.rename(columns=dict(zip(df, colname)))\n",
    "    table = df.to_latex(index=False,escape=False,column_format=(1+ len(colname))*'c')\n",
    "    table = table.replace(\"toprule\", \"hline \\hline\")\n",
    "    table = table.replace(\"bottomrule\", \"hline \\hline\")\n",
    "    table = table.replace(\"midrule\", \"hline\")\n",
    "    s = r'''\\begin{table}[H]\n",
    "    \\centering\n",
    "    \\caption{}\n",
    "    \\label{tab:}\n",
    "    '''\n",
    "    table = s + table \n",
    "    table = table +'\\end{table}'\n",
    "    return table"
   ]
  },
  {
   "cell_type": "code",
   "execution_count": null,
   "metadata": {
    "collapsed": true
   },
   "outputs": [],
   "source": []
  },
  {
   "cell_type": "markdown",
   "metadata": {},
   "source": [
    "filepath for e)"
   ]
  },
  {
   "cell_type": "code",
   "execution_count": 20,
   "metadata": {},
   "outputs": [],
   "source": [
    "filepath = ['e/e_a0/','e/e_n10_alphas/','e/e_n50_alphas/','e/e_n100_alphas/']"
   ]
  },
  {
   "cell_type": "markdown",
   "metadata": {},
   "source": [
    "find all .dat files"
   ]
  },
  {
   "cell_type": "code",
   "execution_count": 21,
   "metadata": {},
   "outputs": [
    {
     "data": {
      "text/plain": [
       "[['e/e_a0/Eint_a0_e_a0_n10_N10.dat',\n",
       "  'e/e_a0/Eint_a0_e_a0_n50_N50.dat',\n",
       "  'e/e_a0/e_a0_n100_alpha0.500000.dat',\n",
       "  'e/e_a0/e_a0_n10.dat',\n",
       "  'e/e_a0/e_a0_n50.dat',\n",
       "  'e/e_a0/Eint_e_a0_n100_alpha0.500000.dat'],\n",
       " [],\n",
       " ['e/e_n50_alphas/e_n50_alpha0.600000.dat',\n",
       "  'e/e_n50_alphas/Eint_a_e_n50_N50_alpha0.400000.dat',\n",
       "  'e/e_n50_alphas/Eint_a_e_n50_N50_alpha0.300000.dat',\n",
       "  'e/e_n50_alphas/e_n50_alpha0.400000.dat',\n",
       "  'e/e_n50_alphas/Eint_a_e_n50_N50_alpha0.600000.dat',\n",
       "  'e/e_n50_alphas/Eint_a_e_n50_N50_alpha0.700000.dat',\n",
       "  'e/e_n50_alphas/e_n50_alpha0.700000.dat',\n",
       "  'e/e_n50_alphas/e_n50_alpha0.300000.dat'],\n",
       " ['e/e_n100_alphas/Eint_a_e_n100_N100_alpha0.700000.dat',\n",
       "  'e/e_n100_alphas/e_n100_alpha0.600000.dat',\n",
       "  'e/e_n100_alphas/Eint_a_e_n100_N100_alpha0.300000.dat',\n",
       "  'e/e_n100_alphas/Eint_a_e_n100_N100_alpha0.400000.dat',\n",
       "  'e/e_n100_alphas/e_n100_alpha0.300000.dat',\n",
       "  'e/e_n100_alphas/e_n100_alpha0.400000.dat',\n",
       "  'e/e_n100_alphas/e_n100_alpha0.700000.dat',\n",
       "  'e/e_n100_alphas/Eint_a_e_n100_N100_alpha0.600000.dat']]"
      ]
     },
     "execution_count": 21,
     "metadata": {},
     "output_type": "execute_result"
    }
   ],
   "source": [
    "files = []\n",
    "for i in range(len(filepath)):\n",
    "    files.append(name_dat_file(filepath[i]))\n"
   ]
  },
  {
   "cell_type": "code",
   "execution_count": 25,
   "metadata": {},
   "outputs": [],
   "source": [
    "listfiles = []\n",
    "for k in range(len(files)):\n",
    "    sort_nicely(files[k])"
   ]
  },
  {
   "cell_type": "code",
   "execution_count": 26,
   "metadata": {},
   "outputs": [
    {
     "data": {
      "text/plain": [
       "[['e/e_a0/Eint_a0_e_a0_n10_N10.dat',\n",
       "  'e/e_a0/Eint_a0_e_a0_n50_N50.dat',\n",
       "  'e/e_a0/Eint_e_a0_n100_alpha0.500000.dat',\n",
       "  'e/e_a0/e_a0_n10.dat',\n",
       "  'e/e_a0/e_a0_n50.dat',\n",
       "  'e/e_a0/e_a0_n100_alpha0.500000.dat'],\n",
       " [],\n",
       " ['e/e_n50_alphas/Eint_a_e_n50_N50_alpha0.300000.dat',\n",
       "  'e/e_n50_alphas/Eint_a_e_n50_N50_alpha0.400000.dat',\n",
       "  'e/e_n50_alphas/Eint_a_e_n50_N50_alpha0.600000.dat',\n",
       "  'e/e_n50_alphas/Eint_a_e_n50_N50_alpha0.700000.dat',\n",
       "  'e/e_n50_alphas/e_n50_alpha0.300000.dat',\n",
       "  'e/e_n50_alphas/e_n50_alpha0.400000.dat',\n",
       "  'e/e_n50_alphas/e_n50_alpha0.600000.dat',\n",
       "  'e/e_n50_alphas/e_n50_alpha0.700000.dat'],\n",
       " ['e/e_n100_alphas/Eint_a_e_n100_N100_alpha0.300000.dat',\n",
       "  'e/e_n100_alphas/Eint_a_e_n100_N100_alpha0.400000.dat',\n",
       "  'e/e_n100_alphas/Eint_a_e_n100_N100_alpha0.600000.dat',\n",
       "  'e/e_n100_alphas/Eint_a_e_n100_N100_alpha0.700000.dat',\n",
       "  'e/e_n100_alphas/e_n100_alpha0.300000.dat',\n",
       "  'e/e_n100_alphas/e_n100_alpha0.400000.dat',\n",
       "  'e/e_n100_alphas/e_n100_alpha0.600000.dat',\n",
       "  'e/e_n100_alphas/e_n100_alpha0.700000.dat']]"
      ]
     },
     "execution_count": 26,
     "metadata": {},
     "output_type": "execute_result"
    }
   ],
   "source": []
  },
  {
   "cell_type": "code",
   "execution_count": null,
   "metadata": {
    "collapsed": true
   },
   "outputs": [],
   "source": []
  },
  {
   "cell_type": "code",
   "execution_count": null,
   "metadata": {
    "collapsed": true
   },
   "outputs": [],
   "source": []
  },
  {
   "cell_type": "code",
   "execution_count": null,
   "metadata": {
    "collapsed": true
   },
   "outputs": [],
   "source": []
  },
  {
   "cell_type": "code",
   "execution_count": null,
   "metadata": {
    "collapsed": true
   },
   "outputs": [],
   "source": []
  },
  {
   "cell_type": "code",
   "execution_count": null,
   "metadata": {
    "collapsed": true
   },
   "outputs": [],
   "source": []
  },
  {
   "cell_type": "code",
   "execution_count": null,
   "metadata": {
    "collapsed": true
   },
   "outputs": [],
   "source": []
  },
  {
   "cell_type": "code",
   "execution_count": null,
   "metadata": {
    "collapsed": true
   },
   "outputs": [],
   "source": []
  },
  {
   "cell_type": "code",
   "execution_count": null,
   "metadata": {
    "collapsed": true
   },
   "outputs": [],
   "source": []
  },
  {
   "cell_type": "code",
   "execution_count": null,
   "metadata": {
    "collapsed": true
   },
   "outputs": [],
   "source": []
  },
  {
   "cell_type": "code",
   "execution_count": null,
   "metadata": {
    "collapsed": true
   },
   "outputs": [],
   "source": []
  },
  {
   "cell_type": "code",
   "execution_count": null,
   "metadata": {
    "collapsed": true
   },
   "outputs": [],
   "source": []
  },
  {
   "cell_type": "code",
   "execution_count": null,
   "metadata": {
    "collapsed": true
   },
   "outputs": [],
   "source": []
  },
  {
   "cell_type": "code",
   "execution_count": null,
   "metadata": {
    "collapsed": true
   },
   "outputs": [],
   "source": []
  },
  {
   "cell_type": "code",
   "execution_count": null,
   "metadata": {
    "collapsed": true
   },
   "outputs": [],
   "source": []
  },
  {
   "cell_type": "code",
   "execution_count": null,
   "metadata": {
    "collapsed": true
   },
   "outputs": [],
   "source": []
  },
  {
   "cell_type": "code",
   "execution_count": null,
   "metadata": {
    "collapsed": true
   },
   "outputs": [],
   "source": []
  },
  {
   "cell_type": "code",
   "execution_count": null,
   "metadata": {
    "collapsed": true
   },
   "outputs": [],
   "source": []
  },
  {
   "cell_type": "code",
   "execution_count": null,
   "metadata": {
    "collapsed": true
   },
   "outputs": [],
   "source": []
  },
  {
   "cell_type": "code",
   "execution_count": null,
   "metadata": {
    "collapsed": true
   },
   "outputs": [],
   "source": []
  },
  {
   "cell_type": "code",
   "execution_count": null,
   "metadata": {
    "collapsed": true
   },
   "outputs": [],
   "source": []
  },
  {
   "cell_type": "code",
   "execution_count": null,
   "metadata": {
    "collapsed": true
   },
   "outputs": [],
   "source": []
  },
  {
   "cell_type": "code",
   "execution_count": null,
   "metadata": {
    "collapsed": true
   },
   "outputs": [],
   "source": []
  },
  {
   "cell_type": "code",
   "execution_count": null,
   "metadata": {
    "collapsed": true
   },
   "outputs": [],
   "source": []
  },
  {
   "cell_type": "code",
   "execution_count": null,
   "metadata": {
    "collapsed": true
   },
   "outputs": [],
   "source": []
  },
  {
   "cell_type": "code",
   "execution_count": null,
   "metadata": {
    "collapsed": true
   },
   "outputs": [],
   "source": []
  },
  {
   "cell_type": "code",
   "execution_count": null,
   "metadata": {
    "collapsed": true
   },
   "outputs": [],
   "source": []
  },
  {
   "cell_type": "code",
   "execution_count": null,
   "metadata": {
    "collapsed": true
   },
   "outputs": [],
   "source": []
  },
  {
   "cell_type": "code",
   "execution_count": null,
   "metadata": {
    "collapsed": true
   },
   "outputs": [],
   "source": []
  },
  {
   "cell_type": "code",
   "execution_count": null,
   "metadata": {
    "collapsed": true
   },
   "outputs": [],
   "source": []
  },
  {
   "cell_type": "code",
   "execution_count": null,
   "metadata": {
    "collapsed": true
   },
   "outputs": [],
   "source": []
  },
  {
   "cell_type": "code",
   "execution_count": null,
   "metadata": {
    "collapsed": true
   },
   "outputs": [],
   "source": []
  }
 ],
 "metadata": {
  "kernelspec": {
   "display_name": "Python 3",
   "language": "python",
   "name": "python3"
  },
  "language_info": {
   "codemirror_mode": {
    "name": "ipython",
    "version": 3
   },
   "file_extension": ".py",
   "mimetype": "text/x-python",
   "name": "python",
   "nbconvert_exporter": "python",
   "pygments_lexer": "ipython3",
   "version": "3.6.3"
  }
 },
 "nbformat": 4,
 "nbformat_minor": 2
}
