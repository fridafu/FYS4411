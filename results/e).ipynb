{
 "cells": [
  {
   "cell_type": "code",
   "execution_count": 1,
   "metadata": {
    "collapsed": true
   },
   "outputs": [],
   "source": [
    "import numpy as np\n",
    "import pandas as pd\n",
    "import scipy.constants as consts\n",
    "import matplotlib.pyplot as plt\n",
    "from io import StringIO\n",
    "import glob\n",
    "import os, sys\n",
    "import re\n",
    "plt.rcParams['figure.dpi']= 300"
   ]
  },
  {
   "cell_type": "code",
   "execution_count": 2,
   "metadata": {
    "collapsed": true
   },
   "outputs": [],
   "source": [
    "params = {'legend.fontsize': 'x-large',\n",
    "          'figure.figsize': (10, 5),\n",
    "         'axes.labelsize': 'xx-large',\n",
    "         'axes.titlesize':'xx-large',\n",
    "         'xtick.labelsize':'large',\n",
    "         'ytick.labelsize':'large'}\n",
    "plt.rcParams.update(params)\n",
    "# set wanted parameters for plots"
   ]
  },
  {
   "cell_type": "markdown",
   "metadata": {},
   "source": [
    "# e) Interaction case"
   ]
  },
  {
   "cell_type": "markdown",
   "metadata": {},
   "source": [
    "Read in energies:"
   ]
  },
  {
   "cell_type": "code",
   "execution_count": 27,
   "metadata": {
    "collapsed": true
   },
   "outputs": [],
   "source": [
    "def name_dat_file(directory):\n",
    "    filenames = [f for f in glob.glob(directory + '*.dat') if 'Eint' in f]\n",
    "    return filenames"
   ]
  },
  {
   "cell_type": "code",
   "execution_count": 37,
   "metadata": {},
   "outputs": [],
   "source": [
    "def name_dat_filemain(directory):\n",
    "    filenames = [f for f in glob.glob(directory + '*.dat') if not 'Eint' in f]\n",
    "    return filenames"
   ]
  },
  {
   "cell_type": "markdown",
   "metadata": {},
   "source": [
    "Sort the filenames nicely:"
   ]
  },
  {
   "cell_type": "code",
   "execution_count": 4,
   "metadata": {
    "collapsed": true
   },
   "outputs": [],
   "source": [
    "def tryint(s):\n",
    "    try:\n",
    "        return int(s)\n",
    "    except:\n",
    "        return s\n",
    "\n",
    "def alphanum_key(s):\n",
    "    \"\"\" Turn a string into a list of string and number chunks.\n",
    "        \"z23a\" -> [\"z\", 23, \"a\"]\"\"\"\n",
    "    return [ tryint(c) for c in re.split('([0-9]+)', s) ]\n",
    "\n",
    "def sort_nicely(l):\n",
    "    #Sort the given list in the way that humans expect\n",
    "    l.sort(key=alphanum_key)\n",
    "    return l"
   ]
  },
  {
   "cell_type": "code",
   "execution_count": null,
   "metadata": {
    "collapsed": true
   },
   "outputs": [],
   "source": []
  },
  {
   "cell_type": "markdown",
   "metadata": {},
   "source": [
    "## Read main short file in to a dataframe:"
   ]
  },
  {
   "cell_type": "code",
   "execution_count": 5,
   "metadata": {
    "collapsed": true
   },
   "outputs": [],
   "source": [
    "def matchlist_iter(filename):\n",
    "    column_names = ['energy', 'acceptance', 'timecpu','solver']\n",
    "    df = pd.read_csv(filename,skiprows=5,names=column_names,delim_whitespace=True,comment='#')\n",
    "    return df"
   ]
  },
  {
   "cell_type": "markdown",
   "metadata": {},
   "source": [
    "## Read in energy files:"
   ]
  },
  {
   "cell_type": "code",
   "execution_count": 81,
   "metadata": {},
   "outputs": [],
   "source": [
    "def read_Ean_2_df(filenamesmain,fileE,Ns,dims=3):\n",
    "    #creates a new dataframe that's empty\n",
    "    mainDF = pd.DataFrame()\n",
    "    #column_names = [['energy']]\n",
    "    print(Ns)\n",
    "    energy = pd.DataFrame()\n",
    "    for i in range(len(filenamesmain)):\n",
    "        temp = pd.DataFrame()\n",
    "        main = matchlist_iter(filenamesmain[i])\n",
    "        main = main.assign(N=Ns[i]*np.ones(len(main)))\n",
    "        main = main.assign(dim=dims * np.ones(len(main)))\n",
    "        temp['energy'] = pd.read_csv(fileE[i])\n",
    "        temp = temp.assign(N=Ns[i]*np.ones(len(temp)))\n",
    "        temp = temp.assign(dim=dims * np.ones(len(temp)))\n",
    "        mainDF = mainDF.append(main,ignore_index=True)\n",
    "        energy = energy.append(temp,ignore_index=True)\n",
    "    return mainDF, energy\n"
   ]
  },
  {
   "cell_type": "code",
   "execution_count": 90,
   "metadata": {
    "collapsed": true
   },
   "outputs": [],
   "source": [
    "def read_E_alpha(filenamesmain,fileE,Ns):\n",
    "    #creates a new dataframe that's empty\n",
    "    mainDF = pd.DataFrame()\n",
    "    alphas = np.linspace(0.3,0.7,5)\n",
    "    print(Ns)\n",
    "    energy = pd.DataFrame()\n",
    "    for i in range(len(alphas)):\n",
    "        temp = pd.DataFrame()\n",
    "        main = matchlist_iter(filenamesmain[i])\n",
    "        main = main.assign(N=Ns*np.ones(len(main)))\n",
    "        main = main.assign(alpha=alphas[i] * np.ones(len(main)))\n",
    "        temp['energy'] = pd.read_csv(fileE[i])\n",
    "        temp = temp.assign(N=Ns*np.ones(len(temp)))\n",
    "        temp = temp.assign(alpha=alphas[i] * np.ones(len(temp)))\n",
    "        mainDF = mainDF.append(main,ignore_index=True)\n",
    "        energy = energy.append(temp,ignore_index=True)\n",
    "    return mainDF, energy"
   ]
  },
  {
   "cell_type": "markdown",
   "metadata": {},
   "source": [
    "### Make the dataframe drop uneccesary columns"
   ]
  },
  {
   "cell_type": "code",
   "execution_count": 7,
   "metadata": {
    "collapsed": true
   },
   "outputs": [],
   "source": [
    "def col_on_u(data):\n",
    "    newcols = ['alpha', 'E_mean_an', 'std_b','acceptance', 'timecpu']\n",
    "    return data[newcols]\n",
    " "
   ]
  },
  {
   "cell_type": "code",
   "execution_count": 70,
   "metadata": {
    "collapsed": true
   },
   "outputs": [],
   "source": [
    "def col_on_me(data):\n",
    "    newcols = ['N','energy', 'std_b','acceptance', 'timecpu']\n",
    "    return data[newcols]"
   ]
  },
  {
   "cell_type": "code",
   "execution_count": 169,
   "metadata": {
    "collapsed": true
   },
   "outputs": [],
   "source": [
    "def col_on_dude(data):\n",
    "    newcols = ['alpha','N','benchmark','energy', 'std_b','acceptance', 'timecpu']\n",
    "    return data[newcols]"
   ]
  },
  {
   "cell_type": "markdown",
   "metadata": {},
   "source": [
    "## Blocking"
   ]
  },
  {
   "cell_type": "code",
   "execution_count": 8,
   "metadata": {
    "collapsed": true
   },
   "outputs": [],
   "source": [
    "def block_mean(vec):\n",
    "    return sum(vec)/len(vec)\n",
    "\n",
    "def meanAndVariance(vec):\n",
    "    mean = np.mean(vec)\n",
    "    var = sum([i ** 2 for i in vec])/len(vec) - mean*mean\n",
    "    return mean, var"
   ]
  },
  {
   "cell_type": "code",
   "execution_count": 9,
   "metadata": {
    "collapsed": true
   },
   "outputs": [],
   "source": [
    "def everything_is_awesome(data): # does the blocking on the dataframe\n",
    "    n_blocks = 200\n",
    "    block_size_min = 100\n",
    "    block_size_max = len(data)/100\n",
    "    block_step = int ((block_size_max - block_size_min + 1) / n_blocks)\n",
    "    mean_vec = []\n",
    "    var_vec = []\n",
    "    block_sizes = []\n",
    "    for i in range(0, n_blocks):\n",
    "        mean_temp_vec = []\n",
    "        start_point = 0\n",
    "        end_point = block_size_min + block_step*i\n",
    "        block_size = end_point\n",
    "        block_sizes.append(block_size)\n",
    "\n",
    "    mean_temp_vec.append(block_mean(data[start_point:end_point]))\n",
    "    start_point = end_point\n",
    "    end_point += block_size_min + block_step*i\n",
    "    mean, var = meanAndVariance(mean_temp_vec)\n",
    "    mean_vec.append(mean)\n",
    "    var_vec.append(np.sqrt(var/(len(data)/float(block_size) - 1.0)))\n",
    "\n",
    "    mean, var = meanAndVariance(data)\n",
    "\n",
    "    return mean,var"
   ]
  },
  {
   "cell_type": "markdown",
   "metadata": {},
   "source": [
    "#### Add $\\sigma_b$ to a dataframe"
   ]
  },
  {
   "cell_type": "code",
   "execution_count": 66,
   "metadata": {},
   "outputs": [],
   "source": [
    "def add_block(dfmain,dfen,n):\n",
    "    tempmean = 0\n",
    "    tempvar = 0\n",
    "    meanlist = []\n",
    "    stdlist = []\n",
    "    for i in range(len(n)):\n",
    "        tempmean, tempvar = everything_is_awesome(dfen[dfen.N==n[i]]['energy'])\n",
    "        meanlist.append(tempmean)\n",
    "        stdlist.append(np.sqrt(np.abs((tempvar))))\n",
    "    dfmain['std_b'] = stdlist\n",
    "    return dfmain"
   ]
  },
  {
   "cell_type": "code",
   "execution_count": 149,
   "metadata": {
    "collapsed": true
   },
   "outputs": [],
   "source": [
    "def add_block_alpha(dfmain,dfen):\n",
    "    tempmean = 0\n",
    "    tempvar = 0\n",
    "    meanlist = []\n",
    "    stdlist = []\n",
    "    alphas=np.linspace(0.3,0.7,5)\n",
    "    for i in range(len(alphas)):\n",
    "        tempmean, tempvar = everything_is_awesome(dfen[dfen.alpha==alphas[i]]['energy'])\n",
    "        meanlist.append(tempmean)\n",
    "        stdlist.append(np.sqrt(np.abs((tempvar))))\n",
    "    dfmain['std_b'] = stdlist\n",
    "    return dfmain"
   ]
  },
  {
   "cell_type": "markdown",
   "metadata": {},
   "source": [
    "## Make $\\LaTeX$ tables"
   ]
  },
  {
   "cell_type": "code",
   "execution_count": 141,
   "metadata": {
    "collapsed": true
   },
   "outputs": [],
   "source": [
    "def latex(df,colname):\n",
    "    df = df.rename(columns=dict(zip(df, colname)))\n",
    "    table = df.to_latex(index=False,escape=False,column_format=(1+ len(colname))*'c')\n",
    "    table = table.replace(\"toprule\", \"hline \\hline\")\n",
    "    table = table.replace(\"bottomrule\", \"hline \\hline\")\n",
    "    table = table.replace(\"midrule\", \"hline\")\n",
    "    s = r'''\\begin{table}[H]\n",
    "    \\centering\n",
    "    \\caption{}\n",
    "    \\label{tab:}\n",
    "    '''\n",
    "    table = s + table.replace(\"     \",\" \")\n",
    "    table = table +'\\end{table}'\n",
    "    return table"
   ]
  },
  {
   "cell_type": "code",
   "execution_count": 215,
   "metadata": {
    "collapsed": true
   },
   "outputs": [],
   "source": [
    "def latex2(df,colname):\n",
    "    df = df.rename(columns=dict(zip(df, colname)))\n",
    "    table = df.to_latex(index=True,escape=False,column_format=(1+ len(colname))*'c')\n",
    "    table = table.replace(\"toprule\", \"hline \\hline\")\n",
    "    table = table.replace(\"bottomrule\", \"hline \\hline\")\n",
    "    table = table.replace(\"midrule\", \"hline\")\n",
    "    s = r'''\\begin{table}[H]\n",
    "    \\centering\n",
    "    \\caption{}\n",
    "    \\label{tab:}\n",
    "    '''\n",
    "    table = s + table.replace(\"     \",\" \")\n",
    "    table = table +'\\end{table}'\n",
    "    return table"
   ]
  },
  {
   "cell_type": "markdown",
   "metadata": {},
   "source": [
    "filepath for e)"
   ]
  },
  {
   "cell_type": "code",
   "execution_count": 20,
   "metadata": {},
   "outputs": [],
   "source": [
    "filepath = ['e/e_a0/','e/e_n10_alphas/','e/e_n50_alphas/','e/e_n100_alphas/']"
   ]
  },
  {
   "cell_type": "markdown",
   "metadata": {},
   "source": [
    "find all .dat files"
   ]
  },
  {
   "cell_type": "code",
   "execution_count": 225,
   "metadata": {
    "collapsed": true
   },
   "outputs": [],
   "source": [
    "filesE = []\n",
    "filesm = []\n",
    "for i in range(len(filepath)):\n",
    "    filesE.append(name_dat_file(filepath[i]))\n",
    "    filesm.append(name_dat_filemain(filepath[i]))\n",
    "    sort_nicely(filesE[i])\n",
    "    sort_nicely(filesm[i])"
   ]
  },
  {
   "cell_type": "code",
   "execution_count": 226,
   "metadata": {},
   "outputs": [
    {
     "data": {
      "text/plain": [
       "[['e/e_a0/Eint_a0_e_a0_n10_N10.dat',\n",
       "  'e/e_a0/Eint_a0_e_a0_n50_N50.dat',\n",
       "  'e/e_a0/Eint_e_a0_n100_alpha0.500000.dat'],\n",
       " ['e/e_n10_alphas/Eint_a_e_n10_N10_alpha0.300000.dat',\n",
       "  'e/e_n10_alphas/Eint_a_e_n10_N10_alpha0.400000.dat',\n",
       "  'e/e_n10_alphas/Eint_a_e_n10_N10_alpha0.500000.dat',\n",
       "  'e/e_n10_alphas/Eint_a_e_n10_N10_alpha0.600000.dat',\n",
       "  'e/e_n10_alphas/Eint_a_e_n10_N10_alpha0.700000.dat'],\n",
       " ['e/e_n50_alphas/Eint_a_e_n50_N50_alpha0.300000.dat',\n",
       "  'e/e_n50_alphas/Eint_a_e_n50_N50_alpha0.400000.dat',\n",
       "  'e/e_n50_alphas/Eint_a_e_n50_N50_alpha0.500000.dat',\n",
       "  'e/e_n50_alphas/Eint_a_e_n50_N50_alpha0.600000.dat',\n",
       "  'e/e_n50_alphas/Eint_a_e_n50_N50_alpha0.700000.dat'],\n",
       " ['e/e_n100_alphas/Eint_a_e_n100_N100_alpha0.300000.dat',\n",
       "  'e/e_n100_alphas/Eint_a_e_n100_N100_alpha0.400000.dat',\n",
       "  'e/e_n100_alphas/Eint_a_e_n100_N100_alpha0.500000.dat',\n",
       "  'e/e_n100_alphas/Eint_a_e_n100_N100_alpha0.600000.dat',\n",
       "  'e/e_n100_alphas/Eint_a_e_n100_N100_alpha0.700000.dat']]"
      ]
     },
     "execution_count": 226,
     "metadata": {},
     "output_type": "execute_result"
    }
   ],
   "source": [
    "#sort_nicely(filesE)\n",
    "filesE"
   ]
  },
  {
   "cell_type": "code",
   "execution_count": 44,
   "metadata": {
    "collapsed": true
   },
   "outputs": [
    {
     "data": {
      "text/plain": [
       "[['e/e_a0/e_a0_n10.dat',\n",
       "  'e/e_a0/e_a0_n50.dat',\n",
       "  'e/e_a0/e_a0_n100_alpha0.500000.dat'],\n",
       " ['e/e_n10_alphas/e_n10_alpha0.300000.dat',\n",
       "  'e/e_n10_alphas/e_n10_alpha0.400000.dat',\n",
       "  'e/e_n10_alphas/e_n10_alpha0.500000.dat',\n",
       "  'e/e_n10_alphas/e_n10_alpha0.600000.dat',\n",
       "  'e/e_n10_alphas/e_n10_alpha0.700000.dat'],\n",
       " ['e/e_n50_alphas/e_n50_alpha0.300000.dat',\n",
       "  'e/e_n50_alphas/e_n50_alpha0.400000.dat',\n",
       "  'e/e_n50_alphas/e_n50_alpha0.500000.dat',\n",
       "  'e/e_n50_alphas/e_n50_alpha0.600000.dat',\n",
       "  'e/e_n50_alphas/e_n50_alpha0.700000.dat'],\n",
       " ['e/e_n100_alphas/e_n100.dat',\n",
       "  'e/e_n100_alphas/e_n100_alpha0.300000.dat',\n",
       "  'e/e_n100_alphas/e_n100_alpha0.400000.dat',\n",
       "  'e/e_n100_alphas/e_n100_alpha0.600000.dat',\n",
       "  'e/e_n100_alphas/e_n100_alpha0.700000.dat']]"
      ]
     },
     "execution_count": 44,
     "metadata": {},
     "output_type": "execute_result"
    }
   ],
   "source": [
    "filesm"
   ]
  },
  {
   "cell_type": "code",
   "execution_count": 50,
   "metadata": {},
   "outputs": [],
   "source": [
    "N = [10,50,100] # particles we're working on\n",
    "alpha = [0.3,0.4,0.5,0.6,0.7] # alpha's we're looking at"
   ]
  },
  {
   "cell_type": "markdown",
   "metadata": {},
   "source": [
    "sort a = 0 into a dataframe"
   ]
  },
  {
   "cell_type": "code",
   "execution_count": 46,
   "metadata": {},
   "outputs": [
    {
     "data": {
      "text/plain": [
       "['e/e_a0/Eint_a0_e_a0_n10_N10.dat',\n",
       " 'e/e_a0/Eint_a0_e_a0_n50_N50.dat',\n",
       " 'e/e_a0/Eint_e_a0_n100_alpha0.500000.dat']"
      ]
     },
     "execution_count": 46,
     "metadata": {},
     "output_type": "execute_result"
    }
   ],
   "source": [
    "a0listE = filesE[0]\n",
    "a0listm = filesm[0]\n"
   ]
  },
  {
   "cell_type": "code",
   "execution_count": 59,
   "metadata": {},
   "outputs": [
    {
     "name": "stdout",
     "output_type": "stream",
     "text": [
      "[10, 50, 100]\n"
     ]
    }
   ],
   "source": [
    "a0m, a0E = read_Ean_2_df(a0listm,a0listE,N)"
   ]
  },
  {
   "cell_type": "code",
   "execution_count": 67,
   "metadata": {},
   "outputs": [],
   "source": [
    "a0m = add_block(dfen=a0E,dfmain=a0m,n=N)"
   ]
  },
  {
   "cell_type": "code",
   "execution_count": 68,
   "metadata": {},
   "outputs": [
    {
     "data": {
      "text/html": [
       "<div>\n",
       "<style>\n",
       "    .dataframe thead tr:only-child th {\n",
       "        text-align: right;\n",
       "    }\n",
       "\n",
       "    .dataframe thead th {\n",
       "        text-align: left;\n",
       "    }\n",
       "\n",
       "    .dataframe tbody tr th {\n",
       "        vertical-align: top;\n",
       "    }\n",
       "</style>\n",
       "<table border=\"1\" class=\"dataframe\">\n",
       "  <thead>\n",
       "    <tr style=\"text-align: right;\">\n",
       "      <th></th>\n",
       "      <th>energy</th>\n",
       "      <th>acceptance</th>\n",
       "      <th>timecpu</th>\n",
       "      <th>solver</th>\n",
       "      <th>N</th>\n",
       "      <th>dim</th>\n",
       "      <th>std_b</th>\n",
       "    </tr>\n",
       "  </thead>\n",
       "  <tbody>\n",
       "    <tr>\n",
       "      <th>0</th>\n",
       "      <td>24.0849</td>\n",
       "      <td>0.892023</td>\n",
       "      <td>27.96046</td>\n",
       "      <td>3</td>\n",
       "      <td>10.0</td>\n",
       "      <td>3.0</td>\n",
       "      <td>0.000135</td>\n",
       "    </tr>\n",
       "    <tr>\n",
       "      <th>1</th>\n",
       "      <td>120.4979</td>\n",
       "      <td>0.228547</td>\n",
       "      <td>534.51240</td>\n",
       "      <td>3</td>\n",
       "      <td>50.0</td>\n",
       "      <td>3.0</td>\n",
       "      <td>0.000545</td>\n",
       "    </tr>\n",
       "    <tr>\n",
       "      <th>2</th>\n",
       "      <td>241.0094</td>\n",
       "      <td>0.032484</td>\n",
       "      <td>2066.11200</td>\n",
       "      <td>3</td>\n",
       "      <td>100.0</td>\n",
       "      <td>3.0</td>\n",
       "      <td>0.000887</td>\n",
       "    </tr>\n",
       "  </tbody>\n",
       "</table>\n",
       "</div>"
      ],
      "text/plain": [
       "     energy  acceptance     timecpu  solver      N  dim     std_b\n",
       "0   24.0849    0.892023    27.96046       3   10.0  3.0  0.000135\n",
       "1  120.4979    0.228547   534.51240       3   50.0  3.0  0.000545\n",
       "2  241.0094    0.032484  2066.11200       3  100.0  3.0  0.000887"
      ]
     },
     "execution_count": 68,
     "metadata": {},
     "output_type": "execute_result"
    }
   ],
   "source": [
    "a0m"
   ]
  },
  {
   "cell_type": "code",
   "execution_count": 71,
   "metadata": {
    "collapsed": true
   },
   "outputs": [],
   "source": [
    "a0m = col_on_me(a0m)"
   ]
  },
  {
   "cell_type": "code",
   "execution_count": 72,
   "metadata": {},
   "outputs": [
    {
     "data": {
      "text/html": [
       "<div>\n",
       "<style>\n",
       "    .dataframe thead tr:only-child th {\n",
       "        text-align: right;\n",
       "    }\n",
       "\n",
       "    .dataframe thead th {\n",
       "        text-align: left;\n",
       "    }\n",
       "\n",
       "    .dataframe tbody tr th {\n",
       "        vertical-align: top;\n",
       "    }\n",
       "</style>\n",
       "<table border=\"1\" class=\"dataframe\">\n",
       "  <thead>\n",
       "    <tr style=\"text-align: right;\">\n",
       "      <th></th>\n",
       "      <th>N</th>\n",
       "      <th>energy</th>\n",
       "      <th>std_b</th>\n",
       "      <th>acceptance</th>\n",
       "      <th>timecpu</th>\n",
       "    </tr>\n",
       "  </thead>\n",
       "  <tbody>\n",
       "    <tr>\n",
       "      <th>0</th>\n",
       "      <td>10.0</td>\n",
       "      <td>24.0849</td>\n",
       "      <td>0.000135</td>\n",
       "      <td>0.892023</td>\n",
       "      <td>27.96046</td>\n",
       "    </tr>\n",
       "    <tr>\n",
       "      <th>1</th>\n",
       "      <td>50.0</td>\n",
       "      <td>120.4979</td>\n",
       "      <td>0.000545</td>\n",
       "      <td>0.228547</td>\n",
       "      <td>534.51240</td>\n",
       "    </tr>\n",
       "    <tr>\n",
       "      <th>2</th>\n",
       "      <td>100.0</td>\n",
       "      <td>241.0094</td>\n",
       "      <td>0.000887</td>\n",
       "      <td>0.032484</td>\n",
       "      <td>2066.11200</td>\n",
       "    </tr>\n",
       "  </tbody>\n",
       "</table>\n",
       "</div>"
      ],
      "text/plain": [
       "       N    energy     std_b  acceptance     timecpu\n",
       "0   10.0   24.0849  0.000135    0.892023    27.96046\n",
       "1   50.0  120.4979  0.000545    0.228547   534.51240\n",
       "2  100.0  241.0094  0.000887    0.032484  2066.11200"
      ]
     },
     "execution_count": 72,
     "metadata": {},
     "output_type": "execute_result"
    }
   ],
   "source": [
    "a0m"
   ]
  },
  {
   "cell_type": "markdown",
   "metadata": {},
   "source": [
    "Make $a = 0$ into a Latex table"
   ]
  },
  {
   "cell_type": "code",
   "execution_count": 73,
   "metadata": {
    "collapsed": true
   },
   "outputs": [],
   "source": [
    "col_name =[f\"${v}$\" for v in [r\"N\",r\"\\langle E_L \\rangle\", r\"\\sigma_b\", r\"\\text{acceptance } [\\%]\", r\"t_{CPU} [s]\"]]"
   ]
  },
  {
   "cell_type": "code",
   "execution_count": 142,
   "metadata": {
    "collapsed": true
   },
   "outputs": [],
   "source": [
    "a0lat = latex(a0m,col_name)"
   ]
  },
  {
   "cell_type": "code",
   "execution_count": 143,
   "metadata": {},
   "outputs": [
    {
     "name": "stdout",
     "output_type": "stream",
     "text": [
      "\\begin{table}[H]\n",
      "    \\centering\n",
      "    \\caption{}\n",
      "    \\label{tab:}\n",
      "    \\begin{tabular}{cccccc}\n",
      "\\hline \\hline\n",
      "   $N$ &  $\\langle E_L \\rangle$ &  $\\sigma_b$ &  $\\text{acceptance } [\\%]$ &  $t_{CPU} [s]$ \\\\\n",
      "\\hline\n",
      "  10.0 &    24.0849 &    0.000135 &       0.892023 &   27.96046 \\\\\n",
      "  50.0 &   120.4979 &    0.000545 &       0.228547 &  534.51240 \\\\\n",
      " 100.0 &   241.0094 &    0.000887 &       0.032484 & 2066.11200 \\\\\n",
      "\\hline \\hline\n",
      "\\end{tabular}\n",
      "\\end{table}\n"
     ]
    }
   ],
   "source": [
    "print(a0lat)"
   ]
  },
  {
   "cell_type": "code",
   "execution_count": 144,
   "metadata": {},
   "outputs": [],
   "source": [
    "#help(a0m.to_csv)"
   ]
  },
  {
   "cell_type": "markdown",
   "metadata": {},
   "source": [
    "### Read in all the other energies when $a = 0.0043$"
   ]
  },
  {
   "cell_type": "code",
   "execution_count": 227,
   "metadata": {
    "collapsed": true
   },
   "outputs": [],
   "source": [
    "N10E = filesE[1]\n",
    "N10mf = filesm[1]"
   ]
  },
  {
   "cell_type": "code",
   "execution_count": 228,
   "metadata": {
    "collapsed": true
   },
   "outputs": [],
   "source": [
    "N50E = filesE[2]\n",
    "N50mf = filesm[2]"
   ]
  },
  {
   "cell_type": "code",
   "execution_count": 229,
   "metadata": {
    "collapsed": true
   },
   "outputs": [],
   "source": [
    "N100E = filesE[3]\n",
    "N100mf = filesm[3]"
   ]
  },
  {
   "cell_type": "code",
   "execution_count": 230,
   "metadata": {},
   "outputs": [
    {
     "data": {
      "text/plain": [
       "['e/e_n10_alphas/Eint_a_e_n10_N10_alpha0.300000.dat',\n",
       " 'e/e_n10_alphas/Eint_a_e_n10_N10_alpha0.400000.dat',\n",
       " 'e/e_n10_alphas/Eint_a_e_n10_N10_alpha0.500000.dat',\n",
       " 'e/e_n10_alphas/Eint_a_e_n10_N10_alpha0.600000.dat',\n",
       " 'e/e_n10_alphas/Eint_a_e_n10_N10_alpha0.700000.dat']"
      ]
     },
     "execution_count": 230,
     "metadata": {},
     "output_type": "execute_result"
    }
   ],
   "source": [
    "N10E"
   ]
  },
  {
   "cell_type": "code",
   "execution_count": 174,
   "metadata": {},
   "outputs": [
    {
     "data": {
      "text/plain": [
       "['e/e_n10_alphas/e_n10_alpha0.300000.dat',\n",
       " 'e/e_n10_alphas/e_n10_alpha0.400000.dat',\n",
       " 'e/e_n10_alphas/e_n10_alpha0.500000.dat',\n",
       " 'e/e_n10_alphas/e_n10_alpha0.600000.dat',\n",
       " 'e/e_n10_alphas/e_n10_alpha0.700000.dat']"
      ]
     },
     "execution_count": 174,
     "metadata": {},
     "output_type": "execute_result"
    }
   ],
   "source": [
    "N10mf"
   ]
  },
  {
   "cell_type": "code",
   "execution_count": 231,
   "metadata": {},
   "outputs": [
    {
     "data": {
      "text/plain": [
       "['e/e_n100_alphas/e_n100_alpha0.300000.dat',\n",
       " 'e/e_n100_alphas/e_n100_alpha0.400000.dat',\n",
       " 'e/e_n100_alphas/e_n100_alpha0.500000.dat',\n",
       " 'e/e_n100_alphas/e_n100_alpha0.600000.dat',\n",
       " 'e/e_n100_alphas/e_n100_alpha0.700000.dat']"
      ]
     },
     "execution_count": 231,
     "metadata": {},
     "output_type": "execute_result"
    }
   ],
   "source": [
    "N100mf"
   ]
  },
  {
   "cell_type": "code",
   "execution_count": 175,
   "metadata": {},
   "outputs": [
    {
     "name": "stdout",
     "output_type": "stream",
     "text": [
      "10\n"
     ]
    }
   ],
   "source": [
    "N10m, E10 = read_E_alpha(N10mf,N10E,10)"
   ]
  },
  {
   "cell_type": "code",
   "execution_count": 176,
   "metadata": {},
   "outputs": [
    {
     "data": {
      "text/html": [
       "<div>\n",
       "<style>\n",
       "    .dataframe thead tr:only-child th {\n",
       "        text-align: right;\n",
       "    }\n",
       "\n",
       "    .dataframe thead th {\n",
       "        text-align: left;\n",
       "    }\n",
       "\n",
       "    .dataframe tbody tr th {\n",
       "        vertical-align: top;\n",
       "    }\n",
       "</style>\n",
       "<table border=\"1\" class=\"dataframe\">\n",
       "  <thead>\n",
       "    <tr style=\"text-align: right;\">\n",
       "      <th></th>\n",
       "      <th>energy</th>\n",
       "      <th>acceptance</th>\n",
       "      <th>timecpu</th>\n",
       "      <th>solver</th>\n",
       "      <th>N</th>\n",
       "      <th>alpha</th>\n",
       "    </tr>\n",
       "  </thead>\n",
       "  <tbody>\n",
       "    <tr>\n",
       "      <th>0</th>\n",
       "      <td>14.99666</td>\n",
       "      <td>0.955622</td>\n",
       "      <td>25.94881</td>\n",
       "      <td>3</td>\n",
       "      <td>10.0</td>\n",
       "      <td>0.3</td>\n",
       "    </tr>\n",
       "    <tr>\n",
       "      <th>1</th>\n",
       "      <td>19.55271</td>\n",
       "      <td>0.944180</td>\n",
       "      <td>27.25675</td>\n",
       "      <td>3</td>\n",
       "      <td>10.0</td>\n",
       "      <td>0.4</td>\n",
       "    </tr>\n",
       "    <tr>\n",
       "      <th>2</th>\n",
       "      <td>24.22702</td>\n",
       "      <td>0.900235</td>\n",
       "      <td>27.73884</td>\n",
       "      <td>3</td>\n",
       "      <td>10.0</td>\n",
       "      <td>0.5</td>\n",
       "    </tr>\n",
       "    <tr>\n",
       "      <th>3</th>\n",
       "      <td>28.85555</td>\n",
       "      <td>0.933428</td>\n",
       "      <td>28.33244</td>\n",
       "      <td>3</td>\n",
       "      <td>10.0</td>\n",
       "      <td>0.6</td>\n",
       "    </tr>\n",
       "    <tr>\n",
       "      <th>4</th>\n",
       "      <td>33.56793</td>\n",
       "      <td>0.804983</td>\n",
       "      <td>31.39450</td>\n",
       "      <td>3</td>\n",
       "      <td>10.0</td>\n",
       "      <td>0.7</td>\n",
       "    </tr>\n",
       "  </tbody>\n",
       "</table>\n",
       "</div>"
      ],
      "text/plain": [
       "     energy  acceptance   timecpu  solver     N  alpha\n",
       "0  14.99666    0.955622  25.94881       3  10.0    0.3\n",
       "1  19.55271    0.944180  27.25675       3  10.0    0.4\n",
       "2  24.22702    0.900235  27.73884       3  10.0    0.5\n",
       "3  28.85555    0.933428  28.33244       3  10.0    0.6\n",
       "4  33.56793    0.804983  31.39450       3  10.0    0.7"
      ]
     },
     "execution_count": 176,
     "metadata": {},
     "output_type": "execute_result"
    }
   ],
   "source": [
    "N10m"
   ]
  },
  {
   "cell_type": "code",
   "execution_count": 177,
   "metadata": {},
   "outputs": [
    {
     "name": "stdout",
     "output_type": "stream",
     "text": [
      "50\n"
     ]
    }
   ],
   "source": [
    "N50m, E50 = read_E_alpha(N50mf,N50E,50)"
   ]
  },
  {
   "cell_type": "code",
   "execution_count": 178,
   "metadata": {},
   "outputs": [
    {
     "data": {
      "text/html": [
       "<div>\n",
       "<style>\n",
       "    .dataframe thead tr:only-child th {\n",
       "        text-align: right;\n",
       "    }\n",
       "\n",
       "    .dataframe thead th {\n",
       "        text-align: left;\n",
       "    }\n",
       "\n",
       "    .dataframe tbody tr th {\n",
       "        vertical-align: top;\n",
       "    }\n",
       "</style>\n",
       "<table border=\"1\" class=\"dataframe\">\n",
       "  <thead>\n",
       "    <tr style=\"text-align: right;\">\n",
       "      <th></th>\n",
       "      <th>energy</th>\n",
       "      <th>acceptance</th>\n",
       "      <th>timecpu</th>\n",
       "      <th>solver</th>\n",
       "      <th>N</th>\n",
       "      <th>alpha</th>\n",
       "    </tr>\n",
       "  </thead>\n",
       "  <tbody>\n",
       "    <tr>\n",
       "      <th>0</th>\n",
       "      <td>74.38858</td>\n",
       "      <td>0.867151</td>\n",
       "      <td>510.3081</td>\n",
       "      <td>3</td>\n",
       "      <td>50.0</td>\n",
       "      <td>0.3</td>\n",
       "    </tr>\n",
       "    <tr>\n",
       "      <th>1</th>\n",
       "      <td>97.66119</td>\n",
       "      <td>0.794913</td>\n",
       "      <td>539.4805</td>\n",
       "      <td>3</td>\n",
       "      <td>50.0</td>\n",
       "      <td>0.4</td>\n",
       "    </tr>\n",
       "    <tr>\n",
       "      <th>2</th>\n",
       "      <td>120.68420</td>\n",
       "      <td>0.607094</td>\n",
       "      <td>564.0068</td>\n",
       "      <td>3</td>\n",
       "      <td>50.0</td>\n",
       "      <td>0.5</td>\n",
       "    </tr>\n",
       "    <tr>\n",
       "      <th>3</th>\n",
       "      <td>144.59280</td>\n",
       "      <td>0.472968</td>\n",
       "      <td>576.4249</td>\n",
       "      <td>3</td>\n",
       "      <td>50.0</td>\n",
       "      <td>0.6</td>\n",
       "    </tr>\n",
       "    <tr>\n",
       "      <th>4</th>\n",
       "      <td>167.91910</td>\n",
       "      <td>0.450908</td>\n",
       "      <td>573.5652</td>\n",
       "      <td>3</td>\n",
       "      <td>50.0</td>\n",
       "      <td>0.7</td>\n",
       "    </tr>\n",
       "  </tbody>\n",
       "</table>\n",
       "</div>"
      ],
      "text/plain": [
       "      energy  acceptance   timecpu  solver     N  alpha\n",
       "0   74.38858    0.867151  510.3081       3  50.0    0.3\n",
       "1   97.66119    0.794913  539.4805       3  50.0    0.4\n",
       "2  120.68420    0.607094  564.0068       3  50.0    0.5\n",
       "3  144.59280    0.472968  576.4249       3  50.0    0.6\n",
       "4  167.91910    0.450908  573.5652       3  50.0    0.7"
      ]
     },
     "execution_count": 178,
     "metadata": {},
     "output_type": "execute_result"
    }
   ],
   "source": [
    "N50m"
   ]
  },
  {
   "cell_type": "code",
   "execution_count": 232,
   "metadata": {},
   "outputs": [
    {
     "name": "stdout",
     "output_type": "stream",
     "text": [
      "100\n"
     ]
    }
   ],
   "source": [
    "N100m, E100 = read_E_alpha(N100mf,N100E,100)"
   ]
  },
  {
   "cell_type": "code",
   "execution_count": 233,
   "metadata": {},
   "outputs": [
    {
     "data": {
      "text/html": [
       "<div>\n",
       "<style>\n",
       "    .dataframe thead tr:only-child th {\n",
       "        text-align: right;\n",
       "    }\n",
       "\n",
       "    .dataframe thead th {\n",
       "        text-align: left;\n",
       "    }\n",
       "\n",
       "    .dataframe tbody tr th {\n",
       "        vertical-align: top;\n",
       "    }\n",
       "</style>\n",
       "<table border=\"1\" class=\"dataframe\">\n",
       "  <thead>\n",
       "    <tr style=\"text-align: right;\">\n",
       "      <th></th>\n",
       "      <th>energy</th>\n",
       "      <th>acceptance</th>\n",
       "      <th>timecpu</th>\n",
       "      <th>solver</th>\n",
       "      <th>N</th>\n",
       "      <th>alpha</th>\n",
       "    </tr>\n",
       "  </thead>\n",
       "  <tbody>\n",
       "    <tr>\n",
       "      <th>0</th>\n",
       "      <td>148.3572</td>\n",
       "      <td>0.787158</td>\n",
       "      <td>2115.342</td>\n",
       "      <td>3</td>\n",
       "      <td>100.0</td>\n",
       "      <td>0.3</td>\n",
       "    </tr>\n",
       "    <tr>\n",
       "      <th>1</th>\n",
       "      <td>194.9959</td>\n",
       "      <td>0.653655</td>\n",
       "      <td>2093.169</td>\n",
       "      <td>3</td>\n",
       "      <td>100.0</td>\n",
       "      <td>0.4</td>\n",
       "    </tr>\n",
       "    <tr>\n",
       "      <th>2</th>\n",
       "      <td>241.0076</td>\n",
       "      <td>0.534920</td>\n",
       "      <td>2114.789</td>\n",
       "      <td>3</td>\n",
       "      <td>100.0</td>\n",
       "      <td>0.5</td>\n",
       "    </tr>\n",
       "    <tr>\n",
       "      <th>3</th>\n",
       "      <td>288.1940</td>\n",
       "      <td>0.523795</td>\n",
       "      <td>2119.060</td>\n",
       "      <td>3</td>\n",
       "      <td>100.0</td>\n",
       "      <td>0.6</td>\n",
       "    </tr>\n",
       "    <tr>\n",
       "      <th>4</th>\n",
       "      <td>336.4776</td>\n",
       "      <td>0.056077</td>\n",
       "      <td>1951.804</td>\n",
       "      <td>3</td>\n",
       "      <td>100.0</td>\n",
       "      <td>0.7</td>\n",
       "    </tr>\n",
       "  </tbody>\n",
       "</table>\n",
       "</div>"
      ],
      "text/plain": [
       "     energy  acceptance   timecpu  solver      N  alpha\n",
       "0  148.3572    0.787158  2115.342       3  100.0    0.3\n",
       "1  194.9959    0.653655  2093.169       3  100.0    0.4\n",
       "2  241.0076    0.534920  2114.789       3  100.0    0.5\n",
       "3  288.1940    0.523795  2119.060       3  100.0    0.6\n",
       "4  336.4776    0.056077  1951.804       3  100.0    0.7"
      ]
     },
     "execution_count": 233,
     "metadata": {},
     "output_type": "execute_result"
    }
   ],
   "source": [
    "N100m"
   ]
  },
  {
   "cell_type": "markdown",
   "metadata": {},
   "source": [
    "Add blocking to the energies"
   ]
  },
  {
   "cell_type": "code",
   "execution_count": 181,
   "metadata": {},
   "outputs": [],
   "source": [
    "N10m = add_block_alpha(N10m,E10)"
   ]
  },
  {
   "cell_type": "code",
   "execution_count": 182,
   "metadata": {},
   "outputs": [
    {
     "data": {
      "text/html": [
       "<div>\n",
       "<style>\n",
       "    .dataframe thead tr:only-child th {\n",
       "        text-align: right;\n",
       "    }\n",
       "\n",
       "    .dataframe thead th {\n",
       "        text-align: left;\n",
       "    }\n",
       "\n",
       "    .dataframe tbody tr th {\n",
       "        vertical-align: top;\n",
       "    }\n",
       "</style>\n",
       "<table border=\"1\" class=\"dataframe\">\n",
       "  <thead>\n",
       "    <tr style=\"text-align: right;\">\n",
       "      <th></th>\n",
       "      <th>energy</th>\n",
       "      <th>acceptance</th>\n",
       "      <th>timecpu</th>\n",
       "      <th>solver</th>\n",
       "      <th>N</th>\n",
       "      <th>alpha</th>\n",
       "      <th>std_b</th>\n",
       "    </tr>\n",
       "  </thead>\n",
       "  <tbody>\n",
       "    <tr>\n",
       "      <th>0</th>\n",
       "      <td>14.99666</td>\n",
       "      <td>0.955622</td>\n",
       "      <td>25.94881</td>\n",
       "      <td>3</td>\n",
       "      <td>10.0</td>\n",
       "      <td>0.3</td>\n",
       "      <td>0.227584</td>\n",
       "    </tr>\n",
       "    <tr>\n",
       "      <th>1</th>\n",
       "      <td>19.55271</td>\n",
       "      <td>0.944180</td>\n",
       "      <td>27.25675</td>\n",
       "      <td>3</td>\n",
       "      <td>10.0</td>\n",
       "      <td>0.4</td>\n",
       "      <td>0.182613</td>\n",
       "    </tr>\n",
       "    <tr>\n",
       "      <th>2</th>\n",
       "      <td>24.22702</td>\n",
       "      <td>0.900235</td>\n",
       "      <td>27.73884</td>\n",
       "      <td>3</td>\n",
       "      <td>10.0</td>\n",
       "      <td>0.5</td>\n",
       "      <td>0.353728</td>\n",
       "    </tr>\n",
       "    <tr>\n",
       "      <th>3</th>\n",
       "      <td>28.85555</td>\n",
       "      <td>0.933428</td>\n",
       "      <td>28.33244</td>\n",
       "      <td>3</td>\n",
       "      <td>10.0</td>\n",
       "      <td>0.6</td>\n",
       "      <td>0.282949</td>\n",
       "    </tr>\n",
       "    <tr>\n",
       "      <th>4</th>\n",
       "      <td>33.56793</td>\n",
       "      <td>0.804983</td>\n",
       "      <td>31.39450</td>\n",
       "      <td>3</td>\n",
       "      <td>10.0</td>\n",
       "      <td>0.7</td>\n",
       "      <td>1.625600</td>\n",
       "    </tr>\n",
       "  </tbody>\n",
       "</table>\n",
       "</div>"
      ],
      "text/plain": [
       "     energy  acceptance   timecpu  solver     N  alpha     std_b\n",
       "0  14.99666    0.955622  25.94881       3  10.0    0.3  0.227584\n",
       "1  19.55271    0.944180  27.25675       3  10.0    0.4  0.182613\n",
       "2  24.22702    0.900235  27.73884       3  10.0    0.5  0.353728\n",
       "3  28.85555    0.933428  28.33244       3  10.0    0.6  0.282949\n",
       "4  33.56793    0.804983  31.39450       3  10.0    0.7  1.625600"
      ]
     },
     "execution_count": 182,
     "metadata": {},
     "output_type": "execute_result"
    }
   ],
   "source": [
    "N10m"
   ]
  },
  {
   "cell_type": "code",
   "execution_count": 183,
   "metadata": {
    "collapsed": true
   },
   "outputs": [],
   "source": [
    "N50m = add_block_alpha(N50m,E50)"
   ]
  },
  {
   "cell_type": "code",
   "execution_count": 184,
   "metadata": {},
   "outputs": [
    {
     "data": {
      "text/html": [
       "<div>\n",
       "<style>\n",
       "    .dataframe thead tr:only-child th {\n",
       "        text-align: right;\n",
       "    }\n",
       "\n",
       "    .dataframe thead th {\n",
       "        text-align: left;\n",
       "    }\n",
       "\n",
       "    .dataframe tbody tr th {\n",
       "        vertical-align: top;\n",
       "    }\n",
       "</style>\n",
       "<table border=\"1\" class=\"dataframe\">\n",
       "  <thead>\n",
       "    <tr style=\"text-align: right;\">\n",
       "      <th></th>\n",
       "      <th>energy</th>\n",
       "      <th>acceptance</th>\n",
       "      <th>timecpu</th>\n",
       "      <th>solver</th>\n",
       "      <th>N</th>\n",
       "      <th>alpha</th>\n",
       "      <th>std_b</th>\n",
       "    </tr>\n",
       "  </thead>\n",
       "  <tbody>\n",
       "    <tr>\n",
       "      <th>0</th>\n",
       "      <td>74.38858</td>\n",
       "      <td>0.867151</td>\n",
       "      <td>510.3081</td>\n",
       "      <td>3</td>\n",
       "      <td>50.0</td>\n",
       "      <td>0.3</td>\n",
       "      <td>3.173188</td>\n",
       "    </tr>\n",
       "    <tr>\n",
       "      <th>1</th>\n",
       "      <td>97.66119</td>\n",
       "      <td>0.794913</td>\n",
       "      <td>539.4805</td>\n",
       "      <td>3</td>\n",
       "      <td>50.0</td>\n",
       "      <td>0.4</td>\n",
       "      <td>1.506749</td>\n",
       "    </tr>\n",
       "    <tr>\n",
       "      <th>2</th>\n",
       "      <td>120.68420</td>\n",
       "      <td>0.607094</td>\n",
       "      <td>564.0068</td>\n",
       "      <td>3</td>\n",
       "      <td>50.0</td>\n",
       "      <td>0.5</td>\n",
       "      <td>0.804185</td>\n",
       "    </tr>\n",
       "    <tr>\n",
       "      <th>3</th>\n",
       "      <td>144.59280</td>\n",
       "      <td>0.472968</td>\n",
       "      <td>576.4249</td>\n",
       "      <td>3</td>\n",
       "      <td>50.0</td>\n",
       "      <td>0.6</td>\n",
       "      <td>1.304669</td>\n",
       "    </tr>\n",
       "    <tr>\n",
       "      <th>4</th>\n",
       "      <td>167.91910</td>\n",
       "      <td>0.450908</td>\n",
       "      <td>573.5652</td>\n",
       "      <td>3</td>\n",
       "      <td>50.0</td>\n",
       "      <td>0.7</td>\n",
       "      <td>1.082076</td>\n",
       "    </tr>\n",
       "  </tbody>\n",
       "</table>\n",
       "</div>"
      ],
      "text/plain": [
       "      energy  acceptance   timecpu  solver     N  alpha     std_b\n",
       "0   74.38858    0.867151  510.3081       3  50.0    0.3  3.173188\n",
       "1   97.66119    0.794913  539.4805       3  50.0    0.4  1.506749\n",
       "2  120.68420    0.607094  564.0068       3  50.0    0.5  0.804185\n",
       "3  144.59280    0.472968  576.4249       3  50.0    0.6  1.304669\n",
       "4  167.91910    0.450908  573.5652       3  50.0    0.7  1.082076"
      ]
     },
     "execution_count": 184,
     "metadata": {},
     "output_type": "execute_result"
    }
   ],
   "source": [
    "N50m"
   ]
  },
  {
   "cell_type": "code",
   "execution_count": 234,
   "metadata": {
    "collapsed": true
   },
   "outputs": [],
   "source": [
    "N100m = add_block_alpha(N100m,E100)"
   ]
  },
  {
   "cell_type": "code",
   "execution_count": 235,
   "metadata": {
    "scrolled": true
   },
   "outputs": [
    {
     "data": {
      "text/html": [
       "<div>\n",
       "<style>\n",
       "    .dataframe thead tr:only-child th {\n",
       "        text-align: right;\n",
       "    }\n",
       "\n",
       "    .dataframe thead th {\n",
       "        text-align: left;\n",
       "    }\n",
       "\n",
       "    .dataframe tbody tr th {\n",
       "        vertical-align: top;\n",
       "    }\n",
       "</style>\n",
       "<table border=\"1\" class=\"dataframe\">\n",
       "  <thead>\n",
       "    <tr style=\"text-align: right;\">\n",
       "      <th></th>\n",
       "      <th>energy</th>\n",
       "      <th>acceptance</th>\n",
       "      <th>timecpu</th>\n",
       "      <th>solver</th>\n",
       "      <th>N</th>\n",
       "      <th>alpha</th>\n",
       "      <th>std_b</th>\n",
       "    </tr>\n",
       "  </thead>\n",
       "  <tbody>\n",
       "    <tr>\n",
       "      <th>0</th>\n",
       "      <td>148.3572</td>\n",
       "      <td>0.787158</td>\n",
       "      <td>2115.342</td>\n",
       "      <td>3</td>\n",
       "      <td>100.0</td>\n",
       "      <td>0.3</td>\n",
       "      <td>3.687806</td>\n",
       "    </tr>\n",
       "    <tr>\n",
       "      <th>1</th>\n",
       "      <td>194.9959</td>\n",
       "      <td>0.653655</td>\n",
       "      <td>2093.169</td>\n",
       "      <td>3</td>\n",
       "      <td>100.0</td>\n",
       "      <td>0.4</td>\n",
       "      <td>1.307078</td>\n",
       "    </tr>\n",
       "    <tr>\n",
       "      <th>2</th>\n",
       "      <td>241.0076</td>\n",
       "      <td>0.534920</td>\n",
       "      <td>2114.789</td>\n",
       "      <td>3</td>\n",
       "      <td>100.0</td>\n",
       "      <td>0.5</td>\n",
       "      <td>1.153398</td>\n",
       "    </tr>\n",
       "    <tr>\n",
       "      <th>3</th>\n",
       "      <td>288.1940</td>\n",
       "      <td>0.523795</td>\n",
       "      <td>2119.060</td>\n",
       "      <td>3</td>\n",
       "      <td>100.0</td>\n",
       "      <td>0.6</td>\n",
       "      <td>0.850927</td>\n",
       "    </tr>\n",
       "    <tr>\n",
       "      <th>4</th>\n",
       "      <td>336.4776</td>\n",
       "      <td>0.056077</td>\n",
       "      <td>1951.804</td>\n",
       "      <td>3</td>\n",
       "      <td>100.0</td>\n",
       "      <td>0.7</td>\n",
       "      <td>2.704718</td>\n",
       "    </tr>\n",
       "  </tbody>\n",
       "</table>\n",
       "</div>"
      ],
      "text/plain": [
       "     energy  acceptance   timecpu  solver      N  alpha     std_b\n",
       "0  148.3572    0.787158  2115.342       3  100.0    0.3  3.687806\n",
       "1  194.9959    0.653655  2093.169       3  100.0    0.4  1.307078\n",
       "2  241.0076    0.534920  2114.789       3  100.0    0.5  1.153398\n",
       "3  288.1940    0.523795  2119.060       3  100.0    0.6  0.850927\n",
       "4  336.4776    0.056077  1951.804       3  100.0    0.7  2.704718"
      ]
     },
     "execution_count": 235,
     "metadata": {},
     "output_type": "execute_result"
    }
   ],
   "source": [
    "N100m"
   ]
  },
  {
   "cell_type": "code",
   "execution_count": 191,
   "metadata": {
    "collapsed": true
   },
   "outputs": [],
   "source": [
    "N10m['benchmark'] = [24.7,24.2,24.2,24.6,25.5]"
   ]
  },
  {
   "cell_type": "code",
   "execution_count": 192,
   "metadata": {},
   "outputs": [],
   "source": [
    "N50m['benchmark'] = [138,125,122,125,129]"
   ]
  },
  {
   "cell_type": "code",
   "execution_count": 236,
   "metadata": {
    "collapsed": true
   },
   "outputs": [],
   "source": [
    "N100m['benchmark'] = [278,253,247,252,263]"
   ]
  },
  {
   "cell_type": "code",
   "execution_count": 237,
   "metadata": {},
   "outputs": [],
   "source": [
    "N10m = col_on_dude(N10m)\n",
    "N50m = col_on_dude(N50m)\n",
    "N100m = col_on_dude(N100m)"
   ]
  },
  {
   "cell_type": "code",
   "execution_count": 198,
   "metadata": {},
   "outputs": [
    {
     "data": {
      "text/html": [
       "<div>\n",
       "<style>\n",
       "    .dataframe thead tr:only-child th {\n",
       "        text-align: right;\n",
       "    }\n",
       "\n",
       "    .dataframe thead th {\n",
       "        text-align: left;\n",
       "    }\n",
       "\n",
       "    .dataframe tbody tr th {\n",
       "        vertical-align: top;\n",
       "    }\n",
       "</style>\n",
       "<table border=\"1\" class=\"dataframe\">\n",
       "  <thead>\n",
       "    <tr style=\"text-align: right;\">\n",
       "      <th></th>\n",
       "      <th>alpha</th>\n",
       "      <th>N</th>\n",
       "      <th>benchmark</th>\n",
       "      <th>energy</th>\n",
       "      <th>std_b</th>\n",
       "      <th>acceptance</th>\n",
       "      <th>timecpu</th>\n",
       "    </tr>\n",
       "  </thead>\n",
       "  <tbody>\n",
       "    <tr>\n",
       "      <th>0</th>\n",
       "      <td>0.3</td>\n",
       "      <td>50.0</td>\n",
       "      <td>138</td>\n",
       "      <td>74.38858</td>\n",
       "      <td>3.173188</td>\n",
       "      <td>0.867151</td>\n",
       "      <td>510.3081</td>\n",
       "    </tr>\n",
       "    <tr>\n",
       "      <th>1</th>\n",
       "      <td>0.4</td>\n",
       "      <td>50.0</td>\n",
       "      <td>125</td>\n",
       "      <td>97.66119</td>\n",
       "      <td>1.506749</td>\n",
       "      <td>0.794913</td>\n",
       "      <td>539.4805</td>\n",
       "    </tr>\n",
       "    <tr>\n",
       "      <th>2</th>\n",
       "      <td>0.5</td>\n",
       "      <td>50.0</td>\n",
       "      <td>122</td>\n",
       "      <td>120.68420</td>\n",
       "      <td>0.804185</td>\n",
       "      <td>0.607094</td>\n",
       "      <td>564.0068</td>\n",
       "    </tr>\n",
       "    <tr>\n",
       "      <th>3</th>\n",
       "      <td>0.6</td>\n",
       "      <td>50.0</td>\n",
       "      <td>125</td>\n",
       "      <td>144.59280</td>\n",
       "      <td>1.304669</td>\n",
       "      <td>0.472968</td>\n",
       "      <td>576.4249</td>\n",
       "    </tr>\n",
       "    <tr>\n",
       "      <th>4</th>\n",
       "      <td>0.7</td>\n",
       "      <td>50.0</td>\n",
       "      <td>129</td>\n",
       "      <td>167.91910</td>\n",
       "      <td>1.082076</td>\n",
       "      <td>0.450908</td>\n",
       "      <td>573.5652</td>\n",
       "    </tr>\n",
       "  </tbody>\n",
       "</table>\n",
       "</div>"
      ],
      "text/plain": [
       "   alpha     N  benchmark     energy     std_b  acceptance   timecpu\n",
       "0    0.3  50.0        138   74.38858  3.173188    0.867151  510.3081\n",
       "1    0.4  50.0        125   97.66119  1.506749    0.794913  539.4805\n",
       "2    0.5  50.0        122  120.68420  0.804185    0.607094  564.0068\n",
       "3    0.6  50.0        125  144.59280  1.304669    0.472968  576.4249\n",
       "4    0.7  50.0        129  167.91910  1.082076    0.450908  573.5652"
      ]
     },
     "execution_count": 198,
     "metadata": {},
     "output_type": "execute_result"
    }
   ],
   "source": [
    "N50m"
   ]
  },
  {
   "cell_type": "code",
   "execution_count": null,
   "metadata": {
    "collapsed": true
   },
   "outputs": [],
   "source": [
    "\n",
    "\n",
    "\n",
    "allNsarebeautiful = pd.concat()"
   ]
  },
  {
   "cell_type": "code",
   "execution_count": 238,
   "metadata": {
    "collapsed": true
   },
   "outputs": [],
   "source": [
    "n10 = N10m.drop(['N'],axis=1)"
   ]
  },
  {
   "cell_type": "code",
   "execution_count": 239,
   "metadata": {},
   "outputs": [
    {
     "data": {
      "text/html": [
       "<div>\n",
       "<style>\n",
       "    .dataframe thead tr:only-child th {\n",
       "        text-align: right;\n",
       "    }\n",
       "\n",
       "    .dataframe thead th {\n",
       "        text-align: left;\n",
       "    }\n",
       "\n",
       "    .dataframe tbody tr th {\n",
       "        vertical-align: top;\n",
       "    }\n",
       "</style>\n",
       "<table border=\"1\" class=\"dataframe\">\n",
       "  <thead>\n",
       "    <tr style=\"text-align: right;\">\n",
       "      <th></th>\n",
       "      <th>alpha</th>\n",
       "      <th>benchmark</th>\n",
       "      <th>energy</th>\n",
       "      <th>std_b</th>\n",
       "      <th>acceptance</th>\n",
       "      <th>timecpu</th>\n",
       "    </tr>\n",
       "  </thead>\n",
       "  <tbody>\n",
       "    <tr>\n",
       "      <th>0</th>\n",
       "      <td>0.3</td>\n",
       "      <td>138</td>\n",
       "      <td>74.38858</td>\n",
       "      <td>3.173188</td>\n",
       "      <td>0.867151</td>\n",
       "      <td>510.3081</td>\n",
       "    </tr>\n",
       "    <tr>\n",
       "      <th>1</th>\n",
       "      <td>0.4</td>\n",
       "      <td>125</td>\n",
       "      <td>97.66119</td>\n",
       "      <td>1.506749</td>\n",
       "      <td>0.794913</td>\n",
       "      <td>539.4805</td>\n",
       "    </tr>\n",
       "    <tr>\n",
       "      <th>2</th>\n",
       "      <td>0.5</td>\n",
       "      <td>122</td>\n",
       "      <td>120.68420</td>\n",
       "      <td>0.804185</td>\n",
       "      <td>0.607094</td>\n",
       "      <td>564.0068</td>\n",
       "    </tr>\n",
       "    <tr>\n",
       "      <th>3</th>\n",
       "      <td>0.6</td>\n",
       "      <td>125</td>\n",
       "      <td>144.59280</td>\n",
       "      <td>1.304669</td>\n",
       "      <td>0.472968</td>\n",
       "      <td>576.4249</td>\n",
       "    </tr>\n",
       "    <tr>\n",
       "      <th>4</th>\n",
       "      <td>0.7</td>\n",
       "      <td>129</td>\n",
       "      <td>167.91910</td>\n",
       "      <td>1.082076</td>\n",
       "      <td>0.450908</td>\n",
       "      <td>573.5652</td>\n",
       "    </tr>\n",
       "  </tbody>\n",
       "</table>\n",
       "</div>"
      ],
      "text/plain": [
       "   alpha  benchmark     energy     std_b  acceptance   timecpu\n",
       "0    0.3        138   74.38858  3.173188    0.867151  510.3081\n",
       "1    0.4        125   97.66119  1.506749    0.794913  539.4805\n",
       "2    0.5        122  120.68420  0.804185    0.607094  564.0068\n",
       "3    0.6        125  144.59280  1.304669    0.472968  576.4249\n",
       "4    0.7        129  167.91910  1.082076    0.450908  573.5652"
      ]
     },
     "execution_count": 239,
     "metadata": {},
     "output_type": "execute_result"
    }
   ],
   "source": [
    "n50 = N50m.drop(['N'],axis=1)\n",
    "n50"
   ]
  },
  {
   "cell_type": "code",
   "execution_count": 240,
   "metadata": {
    "collapsed": true
   },
   "outputs": [],
   "source": [
    "n100 = N100m.drop(['N'],axis=1)"
   ]
  },
  {
   "cell_type": "code",
   "execution_count": 241,
   "metadata": {},
   "outputs": [
    {
     "data": {
      "text/html": [
       "<div>\n",
       "<style>\n",
       "    .dataframe thead tr:only-child th {\n",
       "        text-align: right;\n",
       "    }\n",
       "\n",
       "    .dataframe thead th {\n",
       "        text-align: left;\n",
       "    }\n",
       "\n",
       "    .dataframe tbody tr th {\n",
       "        vertical-align: top;\n",
       "    }\n",
       "</style>\n",
       "<table border=\"1\" class=\"dataframe\">\n",
       "  <thead>\n",
       "    <tr style=\"text-align: right;\">\n",
       "      <th></th>\n",
       "      <th>alpha</th>\n",
       "      <th>benchmark</th>\n",
       "      <th>energy</th>\n",
       "      <th>std_b</th>\n",
       "      <th>acceptance</th>\n",
       "      <th>timecpu</th>\n",
       "    </tr>\n",
       "  </thead>\n",
       "  <tbody>\n",
       "    <tr>\n",
       "      <th>0</th>\n",
       "      <td>0.3</td>\n",
       "      <td>278</td>\n",
       "      <td>148.3572</td>\n",
       "      <td>3.687806</td>\n",
       "      <td>0.787158</td>\n",
       "      <td>2115.342</td>\n",
       "    </tr>\n",
       "    <tr>\n",
       "      <th>1</th>\n",
       "      <td>0.4</td>\n",
       "      <td>253</td>\n",
       "      <td>194.9959</td>\n",
       "      <td>1.307078</td>\n",
       "      <td>0.653655</td>\n",
       "      <td>2093.169</td>\n",
       "    </tr>\n",
       "    <tr>\n",
       "      <th>2</th>\n",
       "      <td>0.5</td>\n",
       "      <td>247</td>\n",
       "      <td>241.0076</td>\n",
       "      <td>1.153398</td>\n",
       "      <td>0.534920</td>\n",
       "      <td>2114.789</td>\n",
       "    </tr>\n",
       "    <tr>\n",
       "      <th>3</th>\n",
       "      <td>0.6</td>\n",
       "      <td>252</td>\n",
       "      <td>288.1940</td>\n",
       "      <td>0.850927</td>\n",
       "      <td>0.523795</td>\n",
       "      <td>2119.060</td>\n",
       "    </tr>\n",
       "    <tr>\n",
       "      <th>4</th>\n",
       "      <td>0.7</td>\n",
       "      <td>263</td>\n",
       "      <td>336.4776</td>\n",
       "      <td>2.704718</td>\n",
       "      <td>0.056077</td>\n",
       "      <td>1951.804</td>\n",
       "    </tr>\n",
       "  </tbody>\n",
       "</table>\n",
       "</div>"
      ],
      "text/plain": [
       "   alpha  benchmark    energy     std_b  acceptance   timecpu\n",
       "0    0.3        278  148.3572  3.687806    0.787158  2115.342\n",
       "1    0.4        253  194.9959  1.307078    0.653655  2093.169\n",
       "2    0.5        247  241.0076  1.153398    0.534920  2114.789\n",
       "3    0.6        252  288.1940  0.850927    0.523795  2119.060\n",
       "4    0.7        263  336.4776  2.704718    0.056077  1951.804"
      ]
     },
     "execution_count": 241,
     "metadata": {},
     "output_type": "execute_result"
    }
   ],
   "source": [
    "n100"
   ]
  },
  {
   "cell_type": "code",
   "execution_count": 242,
   "metadata": {
    "collapsed": true
   },
   "outputs": [],
   "source": [
    "allN = pd.concat([n10,n50,n100],keys=['N=10','N=50','N=100'])"
   ]
  },
  {
   "cell_type": "code",
   "execution_count": 243,
   "metadata": {},
   "outputs": [],
   "source": [
    "Nl = allN.to_latex(index=True)"
   ]
  },
  {
   "cell_type": "code",
   "execution_count": 244,
   "metadata": {},
   "outputs": [
    {
     "name": "stdout",
     "output_type": "stream",
     "text": [
      "\\begin{tabular}{llrrrrrr}\n",
      "\\toprule\n",
      "     &   &  alpha &  benchmark &     energy &     std\\_b &  acceptance &     timecpu \\\\\n",
      "\\midrule\n",
      "N=10 & 0 &    0.3 &       24.7 &   14.99666 &  0.227584 &    0.955622 &    25.94881 \\\\\n",
      "     & 1 &    0.4 &       24.2 &   19.55271 &  0.182613 &    0.944180 &    27.25675 \\\\\n",
      "     & 2 &    0.5 &       24.2 &   24.22702 &  0.353728 &    0.900235 &    27.73884 \\\\\n",
      "     & 3 &    0.6 &       24.6 &   28.85555 &  0.282949 &    0.933428 &    28.33244 \\\\\n",
      "     & 4 &    0.7 &       25.5 &   33.56793 &  1.625600 &    0.804983 &    31.39450 \\\\\n",
      "N=50 & 0 &    0.3 &      138.0 &   74.38858 &  3.173188 &    0.867151 &   510.30810 \\\\\n",
      "     & 1 &    0.4 &      125.0 &   97.66119 &  1.506749 &    0.794913 &   539.48050 \\\\\n",
      "     & 2 &    0.5 &      122.0 &  120.68420 &  0.804185 &    0.607094 &   564.00680 \\\\\n",
      "     & 3 &    0.6 &      125.0 &  144.59280 &  1.304669 &    0.472968 &   576.42490 \\\\\n",
      "     & 4 &    0.7 &      129.0 &  167.91910 &  1.082076 &    0.450908 &   573.56520 \\\\\n",
      "N=100 & 0 &    0.3 &      278.0 &  148.35720 &  3.687806 &    0.787158 &  2115.34200 \\\\\n",
      "     & 1 &    0.4 &      253.0 &  194.99590 &  1.307078 &    0.653655 &  2093.16900 \\\\\n",
      "     & 2 &    0.5 &      247.0 &  241.00760 &  1.153398 &    0.534920 &  2114.78900 \\\\\n",
      "     & 3 &    0.6 &      252.0 &  288.19400 &  0.850927 &    0.523795 &  2119.06000 \\\\\n",
      "     & 4 &    0.7 &      263.0 &  336.47760 &  2.704718 &    0.056077 &  1951.80400 \\\\\n",
      "\\bottomrule\n",
      "\\end{tabular}\n",
      "\n"
     ]
    }
   ],
   "source": [
    "print(Nl)"
   ]
  },
  {
   "cell_type": "code",
   "execution_count": 245,
   "metadata": {},
   "outputs": [],
   "source": [
    "colnames =[f\"${v}$\" for v in [r\"\\alpha\",r\"\\text{benchmark}\",r\"\\langle E_L \\rangle\", r\"\\sigma_b\", r\"\\text{acceptance } [\\%]\", r\"t_{CPU} [s]\"]]\n",
    "Nl2 = latex2(allN,colnames)"
   ]
  },
  {
   "cell_type": "code",
   "execution_count": 246,
   "metadata": {},
   "outputs": [
    {
     "name": "stdout",
     "output_type": "stream",
     "text": [
      "\\begin{table}[H]\n",
      "    \\centering\n",
      "    \\caption{}\n",
      "    \\label{tab:}\n",
      "    \\begin{tabular}{ccccccc}\n",
      "\\hline \\hline\n",
      " &   &  $\\alpha$ &  $\\text{benchmark}$ &  $\\langle E_L \\rangle$ &  $\\sigma_b$ &  $\\text{acceptance } [\\%]$ &  $t_{CPU} [s]$ \\\\\n",
      "\\hline\n",
      "N=10 & 0 &   0.3 &    24.7 &   14.99666 &    0.227584 &       0.955622 &   25.94881 \\\\\n",
      " & 1 &   0.4 &    24.2 &   19.55271 &    0.182613 &       0.944180 &   27.25675 \\\\\n",
      " & 2 &   0.5 &    24.2 &   24.22702 &    0.353728 &       0.900235 &   27.73884 \\\\\n",
      " & 3 &   0.6 &    24.6 &   28.85555 &    0.282949 &       0.933428 &   28.33244 \\\\\n",
      " & 4 &   0.7 &    25.5 &   33.56793 &    1.625600 &       0.804983 &   31.39450 \\\\\n",
      "N=50 & 0 &   0.3 &   138.0 &   74.38858 &    3.173188 &       0.867151 &  510.30810 \\\\\n",
      " & 1 &   0.4 &   125.0 &   97.66119 &    1.506749 &       0.794913 &  539.48050 \\\\\n",
      " & 2 &   0.5 &   122.0 &      120.68420 &    0.804185 &       0.607094 &  564.00680 \\\\\n",
      " & 3 &   0.6 &   125.0 &      144.59280 &    1.304669 &       0.472968 &  576.42490 \\\\\n",
      " & 4 &   0.7 &   129.0 &      167.91910 &    1.082076 &       0.450908 &  573.56520 \\\\\n",
      "N=100 & 0 &   0.3 &   278.0 &      148.35720 &    3.687806 &       0.787158 & 2115.34200 \\\\\n",
      " & 1 &   0.4 &   253.0 &      194.99590 &    1.307078 &       0.653655 & 2093.16900 \\\\\n",
      " & 2 &   0.5 &   247.0 &      241.00760 &    1.153398 &       0.534920 & 2114.78900 \\\\\n",
      " & 3 &   0.6 &   252.0 &      288.19400 &    0.850927 &       0.523795 & 2119.06000 \\\\\n",
      " & 4 &   0.7 &   263.0 &      336.47760 &    2.704718 &       0.056077 & 1951.80400 \\\\\n",
      "\\hline \\hline\n",
      "\\end{tabular}\n",
      "\\end{table}\n"
     ]
    }
   ],
   "source": [
    "print(Nl2)"
   ]
  },
  {
   "cell_type": "code",
   "execution_count": null,
   "metadata": {
    "collapsed": true
   },
   "outputs": [],
   "source": []
  },
  {
   "cell_type": "code",
   "execution_count": null,
   "metadata": {
    "collapsed": true
   },
   "outputs": [],
   "source": []
  },
  {
   "cell_type": "markdown",
   "metadata": {},
   "source": [
    "####  Make a nice table for when $a = 0$ and $\\beta = 1$"
   ]
  },
  {
   "cell_type": "code",
   "execution_count": null,
   "metadata": {
    "collapsed": true
   },
   "outputs": [],
   "source": []
  },
  {
   "cell_type": "code",
   "execution_count": null,
   "metadata": {
    "collapsed": true
   },
   "outputs": [],
   "source": []
  },
  {
   "cell_type": "code",
   "execution_count": null,
   "metadata": {
    "collapsed": true
   },
   "outputs": [],
   "source": []
  },
  {
   "cell_type": "code",
   "execution_count": null,
   "metadata": {
    "collapsed": true
   },
   "outputs": [],
   "source": []
  },
  {
   "cell_type": "code",
   "execution_count": null,
   "metadata": {
    "collapsed": true
   },
   "outputs": [],
   "source": []
  },
  {
   "cell_type": "code",
   "execution_count": null,
   "metadata": {
    "collapsed": true
   },
   "outputs": [],
   "source": []
  },
  {
   "cell_type": "code",
   "execution_count": null,
   "metadata": {
    "collapsed": true
   },
   "outputs": [],
   "source": []
  },
  {
   "cell_type": "code",
   "execution_count": null,
   "metadata": {
    "collapsed": true
   },
   "outputs": [],
   "source": []
  },
  {
   "cell_type": "code",
   "execution_count": null,
   "metadata": {
    "collapsed": true
   },
   "outputs": [],
   "source": []
  },
  {
   "cell_type": "code",
   "execution_count": null,
   "metadata": {
    "collapsed": true
   },
   "outputs": [],
   "source": []
  },
  {
   "cell_type": "code",
   "execution_count": null,
   "metadata": {
    "collapsed": true
   },
   "outputs": [],
   "source": []
  },
  {
   "cell_type": "code",
   "execution_count": null,
   "metadata": {
    "collapsed": true
   },
   "outputs": [],
   "source": []
  },
  {
   "cell_type": "code",
   "execution_count": null,
   "metadata": {
    "collapsed": true
   },
   "outputs": [],
   "source": []
  },
  {
   "cell_type": "code",
   "execution_count": null,
   "metadata": {
    "collapsed": true
   },
   "outputs": [],
   "source": []
  },
  {
   "cell_type": "code",
   "execution_count": null,
   "metadata": {
    "collapsed": true
   },
   "outputs": [],
   "source": []
  },
  {
   "cell_type": "code",
   "execution_count": null,
   "metadata": {
    "collapsed": true
   },
   "outputs": [],
   "source": []
  },
  {
   "cell_type": "code",
   "execution_count": null,
   "metadata": {
    "collapsed": true
   },
   "outputs": [],
   "source": []
  },
  {
   "cell_type": "code",
   "execution_count": null,
   "metadata": {
    "collapsed": true
   },
   "outputs": [],
   "source": []
  },
  {
   "cell_type": "code",
   "execution_count": null,
   "metadata": {
    "collapsed": true
   },
   "outputs": [],
   "source": []
  },
  {
   "cell_type": "code",
   "execution_count": null,
   "metadata": {
    "collapsed": true
   },
   "outputs": [],
   "source": []
  },
  {
   "cell_type": "code",
   "execution_count": null,
   "metadata": {
    "collapsed": true
   },
   "outputs": [],
   "source": []
  },
  {
   "cell_type": "code",
   "execution_count": null,
   "metadata": {
    "collapsed": true
   },
   "outputs": [],
   "source": []
  },
  {
   "cell_type": "code",
   "execution_count": null,
   "metadata": {
    "collapsed": true
   },
   "outputs": [],
   "source": []
  },
  {
   "cell_type": "code",
   "execution_count": null,
   "metadata": {
    "collapsed": true
   },
   "outputs": [],
   "source": []
  },
  {
   "cell_type": "code",
   "execution_count": null,
   "metadata": {
    "collapsed": true
   },
   "outputs": [],
   "source": []
  },
  {
   "cell_type": "code",
   "execution_count": null,
   "metadata": {
    "collapsed": true
   },
   "outputs": [],
   "source": []
  },
  {
   "cell_type": "code",
   "execution_count": null,
   "metadata": {
    "collapsed": true
   },
   "outputs": [],
   "source": []
  },
  {
   "cell_type": "code",
   "execution_count": null,
   "metadata": {
    "collapsed": true
   },
   "outputs": [],
   "source": []
  },
  {
   "cell_type": "code",
   "execution_count": null,
   "metadata": {
    "collapsed": true
   },
   "outputs": [],
   "source": []
  },
  {
   "cell_type": "code",
   "execution_count": null,
   "metadata": {
    "collapsed": true
   },
   "outputs": [],
   "source": []
  },
  {
   "cell_type": "code",
   "execution_count": null,
   "metadata": {
    "collapsed": true
   },
   "outputs": [],
   "source": []
  },
  {
   "cell_type": "code",
   "execution_count": null,
   "metadata": {
    "collapsed": true
   },
   "outputs": [],
   "source": []
  },
  {
   "cell_type": "code",
   "execution_count": null,
   "metadata": {
    "collapsed": true
   },
   "outputs": [],
   "source": []
  },
  {
   "cell_type": "code",
   "execution_count": null,
   "metadata": {
    "collapsed": true
   },
   "outputs": [],
   "source": []
  },
  {
   "cell_type": "code",
   "execution_count": null,
   "metadata": {
    "collapsed": true
   },
   "outputs": [],
   "source": []
  },
  {
   "cell_type": "code",
   "execution_count": null,
   "metadata": {
    "collapsed": true
   },
   "outputs": [],
   "source": []
  },
  {
   "cell_type": "code",
   "execution_count": null,
   "metadata": {
    "collapsed": true
   },
   "outputs": [],
   "source": []
  },
  {
   "cell_type": "code",
   "execution_count": null,
   "metadata": {
    "collapsed": true
   },
   "outputs": [],
   "source": []
  },
  {
   "cell_type": "code",
   "execution_count": null,
   "metadata": {
    "collapsed": true
   },
   "outputs": [],
   "source": []
  },
  {
   "cell_type": "code",
   "execution_count": null,
   "metadata": {
    "collapsed": true
   },
   "outputs": [],
   "source": []
  },
  {
   "cell_type": "code",
   "execution_count": null,
   "metadata": {
    "collapsed": true
   },
   "outputs": [],
   "source": []
  },
  {
   "cell_type": "code",
   "execution_count": null,
   "metadata": {
    "collapsed": true
   },
   "outputs": [],
   "source": []
  },
  {
   "cell_type": "code",
   "execution_count": null,
   "metadata": {
    "collapsed": true
   },
   "outputs": [],
   "source": []
  },
  {
   "cell_type": "code",
   "execution_count": null,
   "metadata": {
    "collapsed": true
   },
   "outputs": [],
   "source": []
  },
  {
   "cell_type": "code",
   "execution_count": null,
   "metadata": {
    "collapsed": true
   },
   "outputs": [],
   "source": []
  },
  {
   "cell_type": "code",
   "execution_count": null,
   "metadata": {
    "collapsed": true
   },
   "outputs": [],
   "source": []
  },
  {
   "cell_type": "code",
   "execution_count": null,
   "metadata": {
    "collapsed": true
   },
   "outputs": [],
   "source": []
  },
  {
   "cell_type": "code",
   "execution_count": null,
   "metadata": {
    "collapsed": true
   },
   "outputs": [],
   "source": []
  },
  {
   "cell_type": "code",
   "execution_count": null,
   "metadata": {
    "collapsed": true
   },
   "outputs": [],
   "source": []
  },
  {
   "cell_type": "code",
   "execution_count": null,
   "metadata": {
    "collapsed": true
   },
   "outputs": [],
   "source": []
  },
  {
   "cell_type": "code",
   "execution_count": null,
   "metadata": {
    "collapsed": true
   },
   "outputs": [],
   "source": []
  },
  {
   "cell_type": "code",
   "execution_count": null,
   "metadata": {
    "collapsed": true
   },
   "outputs": [],
   "source": []
  },
  {
   "cell_type": "code",
   "execution_count": null,
   "metadata": {
    "collapsed": true
   },
   "outputs": [],
   "source": []
  },
  {
   "cell_type": "code",
   "execution_count": null,
   "metadata": {
    "collapsed": true
   },
   "outputs": [],
   "source": []
  },
  {
   "cell_type": "code",
   "execution_count": null,
   "metadata": {
    "collapsed": true
   },
   "outputs": [],
   "source": []
  },
  {
   "cell_type": "code",
   "execution_count": null,
   "metadata": {
    "collapsed": true
   },
   "outputs": [],
   "source": []
  },
  {
   "cell_type": "code",
   "execution_count": null,
   "metadata": {
    "collapsed": true
   },
   "outputs": [],
   "source": []
  },
  {
   "cell_type": "code",
   "execution_count": null,
   "metadata": {
    "collapsed": true
   },
   "outputs": [],
   "source": []
  },
  {
   "cell_type": "code",
   "execution_count": null,
   "metadata": {
    "collapsed": true
   },
   "outputs": [],
   "source": []
  },
  {
   "cell_type": "code",
   "execution_count": null,
   "metadata": {
    "collapsed": true
   },
   "outputs": [],
   "source": []
  },
  {
   "cell_type": "code",
   "execution_count": null,
   "metadata": {
    "collapsed": true
   },
   "outputs": [],
   "source": []
  },
  {
   "cell_type": "code",
   "execution_count": null,
   "metadata": {
    "collapsed": true
   },
   "outputs": [],
   "source": []
  },
  {
   "cell_type": "code",
   "execution_count": null,
   "metadata": {
    "collapsed": true
   },
   "outputs": [],
   "source": []
  },
  {
   "cell_type": "code",
   "execution_count": null,
   "metadata": {
    "collapsed": true
   },
   "outputs": [],
   "source": []
  },
  {
   "cell_type": "code",
   "execution_count": null,
   "metadata": {
    "collapsed": true
   },
   "outputs": [],
   "source": []
  },
  {
   "cell_type": "code",
   "execution_count": null,
   "metadata": {
    "collapsed": true
   },
   "outputs": [],
   "source": []
  },
  {
   "cell_type": "code",
   "execution_count": null,
   "metadata": {
    "collapsed": true
   },
   "outputs": [],
   "source": []
  },
  {
   "cell_type": "code",
   "execution_count": null,
   "metadata": {
    "collapsed": true
   },
   "outputs": [],
   "source": []
  },
  {
   "cell_type": "code",
   "execution_count": null,
   "metadata": {
    "collapsed": true
   },
   "outputs": [],
   "source": []
  },
  {
   "cell_type": "code",
   "execution_count": null,
   "metadata": {
    "collapsed": true
   },
   "outputs": [],
   "source": []
  }
 ],
 "metadata": {
  "kernelspec": {
   "display_name": "Python 3",
   "language": "python",
   "name": "python3"
  },
  "language_info": {
   "codemirror_mode": {
    "name": "ipython",
    "version": 3
   },
   "file_extension": ".py",
   "mimetype": "text/x-python",
   "name": "python",
   "nbconvert_exporter": "python",
   "pygments_lexer": "ipython3",
   "version": "3.6.3"
  }
 },
 "nbformat": 4,
 "nbformat_minor": 2
}
