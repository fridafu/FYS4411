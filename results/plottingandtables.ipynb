{
 "cells": [
  {
   "cell_type": "markdown",
   "metadata": {
    "collapsed": true
   },
   "source": [
    "# Results from project 1"
   ]
  },
  {
   "cell_type": "markdown",
   "metadata": {},
   "source": [
    "Task b)"
   ]
  },
  {
   "cell_type": "markdown",
   "metadata": {},
   "source": []
  },
  {
   "cell_type": "code",
   "execution_count": 4,
   "metadata": {
    "collapsed": true
   },
   "outputs": [],
   "source": [
    "import numpy as np\n",
    "import pandas as pd\n",
    "import scipy.constants as consts\n",
    "import matplotlib.pyplot as plt\n",
    "from io import StringIO\n",
    "import os, sys\n",
    "%matplotlib inline"
   ]
  },
  {
   "cell_type": "code",
   "execution_count": null,
   "metadata": {
    "collapsed": true
   },
   "outputs": [],
   "source": []
  },
  {
   "cell_type": "markdown",
   "metadata": {
    "collapsed": true
   },
   "source": [
    "#### Create appropriate filenames"
   ]
  },
  {
   "cell_type": "code",
   "execution_count": 5,
   "metadata": {
    "collapsed": true
   },
   "outputs": [],
   "source": [
    "def createfilename(alphas,path):\n",
    "    filenames = [] \n",
    "    alpha_ = np.around(alphas,decimals = -1)\n",
    "    for i in range(len(alphas)):\n",
    "        filenames.append(path + str(int(alpha_[i])) + '.dat')\n",
    "    return filenames"
   ]
  },
  {
   "cell_type": "code",
   "execution_count": 6,
   "metadata": {
    "collapsed": true
   },
   "outputs": [],
   "source": [
    "alphas = np.linspace(300000,700000,9)\n",
    "path = 'b_n1_d1/b_n1_d1_alpha0.'"
   ]
  },
  {
   "cell_type": "code",
   "execution_count": 7,
   "metadata": {
    "collapsed": true,
    "scrolled": true
   },
   "outputs": [],
   "source": [
    "files = createfilename(alphas,path)"
   ]
  },
  {
   "cell_type": "code",
   "execution_count": null,
   "metadata": {
    "collapsed": true
   },
   "outputs": [],
   "source": []
  },
  {
   "cell_type": "code",
   "execution_count": null,
   "metadata": {
    "collapsed": true
   },
   "outputs": [],
   "source": []
  },
  {
   "cell_type": "markdown",
   "metadata": {},
   "source": [
    "### Put everthing in a file into a dataframe with selected column names"
   ]
  },
  {
   "cell_type": "code",
   "execution_count": 8,
   "metadata": {
    "collapsed": true
   },
   "outputs": [],
   "source": [
    "def matchlist_iter(filename):\n",
    "    column_names = ['energy', 'acceptance', 'timecpu','solver']\n",
    "    df = pd.read_csv(filename,skiprows=5,names=column_names,delim_whitespace=True,comment='#')\n",
    "    return df"
   ]
  },
  {
   "cell_type": "markdown",
   "metadata": {},
   "source": [
    "##### Read in all the data into one single dataframe"
   ]
  },
  {
   "cell_type": "code",
   "execution_count": 9,
   "metadata": {
    "scrolled": true
   },
   "outputs": [
    {
     "data": {
      "text/html": [
       "<div>\n",
       "<style>\n",
       "    .dataframe thead tr:only-child th {\n",
       "        text-align: right;\n",
       "    }\n",
       "\n",
       "    .dataframe thead th {\n",
       "        text-align: left;\n",
       "    }\n",
       "\n",
       "    .dataframe tbody tr th {\n",
       "        vertical-align: top;\n",
       "    }\n",
       "</style>\n",
       "<table border=\"1\" class=\"dataframe\">\n",
       "  <thead>\n",
       "    <tr style=\"text-align: right;\">\n",
       "      <th></th>\n",
       "      <th>energy</th>\n",
       "      <th>acceptance</th>\n",
       "      <th>timecpu</th>\n",
       "      <th>solver</th>\n",
       "      <th>alpha</th>\n",
       "    </tr>\n",
       "  </thead>\n",
       "  <tbody>\n",
       "    <tr>\n",
       "      <th>0</th>\n",
       "      <td>0.571888</td>\n",
       "      <td>0.988915</td>\n",
       "      <td>3.654440</td>\n",
       "      <td>0</td>\n",
       "      <td>0.30</td>\n",
       "    </tr>\n",
       "    <tr>\n",
       "      <th>1</th>\n",
       "      <td>0.539968</td>\n",
       "      <td>0.989642</td>\n",
       "      <td>3.710214</td>\n",
       "      <td>1</td>\n",
       "      <td>0.30</td>\n",
       "    </tr>\n",
       "    <tr>\n",
       "      <th>2</th>\n",
       "      <td>0.390369</td>\n",
       "      <td>0.996718</td>\n",
       "      <td>3.684476</td>\n",
       "      <td>2</td>\n",
       "      <td>0.30</td>\n",
       "    </tr>\n",
       "    <tr>\n",
       "      <th>3</th>\n",
       "      <td>0.541114</td>\n",
       "      <td>0.988016</td>\n",
       "      <td>3.530099</td>\n",
       "      <td>0</td>\n",
       "      <td>0.35</td>\n",
       "    </tr>\n",
       "    <tr>\n",
       "      <th>4</th>\n",
       "      <td>0.544347</td>\n",
       "      <td>0.987860</td>\n",
       "      <td>3.703977</td>\n",
       "      <td>1</td>\n",
       "      <td>0.35</td>\n",
       "    </tr>\n",
       "    <tr>\n",
       "      <th>5</th>\n",
       "      <td>0.410811</td>\n",
       "      <td>0.996651</td>\n",
       "      <td>3.775070</td>\n",
       "      <td>2</td>\n",
       "      <td>0.35</td>\n",
       "    </tr>\n",
       "    <tr>\n",
       "      <th>6</th>\n",
       "      <td>0.513380</td>\n",
       "      <td>0.987309</td>\n",
       "      <td>3.622487</td>\n",
       "      <td>0</td>\n",
       "      <td>0.40</td>\n",
       "    </tr>\n",
       "    <tr>\n",
       "      <th>7</th>\n",
       "      <td>0.513502</td>\n",
       "      <td>0.987279</td>\n",
       "      <td>3.651494</td>\n",
       "      <td>1</td>\n",
       "      <td>0.40</td>\n",
       "    </tr>\n",
       "    <tr>\n",
       "      <th>8</th>\n",
       "      <td>0.439269</td>\n",
       "      <td>0.996266</td>\n",
       "      <td>3.663967</td>\n",
       "      <td>2</td>\n",
       "      <td>0.40</td>\n",
       "    </tr>\n",
       "    <tr>\n",
       "      <th>9</th>\n",
       "      <td>0.499456</td>\n",
       "      <td>0.987088</td>\n",
       "      <td>3.636815</td>\n",
       "      <td>0</td>\n",
       "      <td>0.45</td>\n",
       "    </tr>\n",
       "    <tr>\n",
       "      <th>10</th>\n",
       "      <td>0.509835</td>\n",
       "      <td>0.985998</td>\n",
       "      <td>3.768516</td>\n",
       "      <td>1</td>\n",
       "      <td>0.45</td>\n",
       "    </tr>\n",
       "    <tr>\n",
       "      <th>11</th>\n",
       "      <td>0.467646</td>\n",
       "      <td>0.996058</td>\n",
       "      <td>3.752264</td>\n",
       "      <td>2</td>\n",
       "      <td>0.45</td>\n",
       "    </tr>\n",
       "    <tr>\n",
       "      <th>12</th>\n",
       "      <td>0.500000</td>\n",
       "      <td>0.985676</td>\n",
       "      <td>3.589127</td>\n",
       "      <td>0</td>\n",
       "      <td>0.50</td>\n",
       "    </tr>\n",
       "    <tr>\n",
       "      <th>13</th>\n",
       "      <td>0.500000</td>\n",
       "      <td>0.985286</td>\n",
       "      <td>3.795014</td>\n",
       "      <td>1</td>\n",
       "      <td>0.50</td>\n",
       "    </tr>\n",
       "    <tr>\n",
       "      <th>14</th>\n",
       "      <td>0.500000</td>\n",
       "      <td>0.995973</td>\n",
       "      <td>3.540494</td>\n",
       "      <td>2</td>\n",
       "      <td>0.50</td>\n",
       "    </tr>\n",
       "    <tr>\n",
       "      <th>15</th>\n",
       "      <td>0.507812</td>\n",
       "      <td>0.986301</td>\n",
       "      <td>3.653402</td>\n",
       "      <td>0</td>\n",
       "      <td>0.55</td>\n",
       "    </tr>\n",
       "    <tr>\n",
       "      <th>16</th>\n",
       "      <td>0.504358</td>\n",
       "      <td>0.985480</td>\n",
       "      <td>3.785260</td>\n",
       "      <td>1</td>\n",
       "      <td>0.55</td>\n",
       "    </tr>\n",
       "    <tr>\n",
       "      <th>17</th>\n",
       "      <td>0.532459</td>\n",
       "      <td>0.995490</td>\n",
       "      <td>3.695850</td>\n",
       "      <td>2</td>\n",
       "      <td>0.55</td>\n",
       "    </tr>\n",
       "    <tr>\n",
       "      <th>18</th>\n",
       "      <td>0.513756</td>\n",
       "      <td>0.984834</td>\n",
       "      <td>3.581373</td>\n",
       "      <td>0</td>\n",
       "      <td>0.60</td>\n",
       "    </tr>\n",
       "    <tr>\n",
       "      <th>19</th>\n",
       "      <td>0.501131</td>\n",
       "      <td>0.983908</td>\n",
       "      <td>3.727102</td>\n",
       "      <td>1</td>\n",
       "      <td>0.60</td>\n",
       "    </tr>\n",
       "    <tr>\n",
       "      <th>20</th>\n",
       "      <td>0.570595</td>\n",
       "      <td>0.995606</td>\n",
       "      <td>3.551669</td>\n",
       "      <td>2</td>\n",
       "      <td>0.60</td>\n",
       "    </tr>\n",
       "    <tr>\n",
       "      <th>21</th>\n",
       "      <td>0.519535</td>\n",
       "      <td>0.984289</td>\n",
       "      <td>3.739749</td>\n",
       "      <td>0</td>\n",
       "      <td>0.65</td>\n",
       "    </tr>\n",
       "    <tr>\n",
       "      <th>22</th>\n",
       "      <td>0.519699</td>\n",
       "      <td>0.983897</td>\n",
       "      <td>3.861608</td>\n",
       "      <td>1</td>\n",
       "      <td>0.65</td>\n",
       "    </tr>\n",
       "    <tr>\n",
       "      <th>23</th>\n",
       "      <td>0.605431</td>\n",
       "      <td>0.995295</td>\n",
       "      <td>3.604347</td>\n",
       "      <td>2</td>\n",
       "      <td>0.65</td>\n",
       "    </tr>\n",
       "    <tr>\n",
       "      <th>24</th>\n",
       "      <td>0.539026</td>\n",
       "      <td>0.983899</td>\n",
       "      <td>3.810217</td>\n",
       "      <td>0</td>\n",
       "      <td>0.70</td>\n",
       "    </tr>\n",
       "    <tr>\n",
       "      <th>25</th>\n",
       "      <td>0.523957</td>\n",
       "      <td>0.982756</td>\n",
       "      <td>3.768564</td>\n",
       "      <td>1</td>\n",
       "      <td>0.70</td>\n",
       "    </tr>\n",
       "    <tr>\n",
       "      <th>26</th>\n",
       "      <td>0.641398</td>\n",
       "      <td>0.995116</td>\n",
       "      <td>3.572266</td>\n",
       "      <td>2</td>\n",
       "      <td>0.70</td>\n",
       "    </tr>\n",
       "  </tbody>\n",
       "</table>\n",
       "</div>"
      ],
      "text/plain": [
       "      energy  acceptance   timecpu  solver  alpha\n",
       "0   0.571888    0.988915  3.654440       0   0.30\n",
       "1   0.539968    0.989642  3.710214       1   0.30\n",
       "2   0.390369    0.996718  3.684476       2   0.30\n",
       "3   0.541114    0.988016  3.530099       0   0.35\n",
       "4   0.544347    0.987860  3.703977       1   0.35\n",
       "5   0.410811    0.996651  3.775070       2   0.35\n",
       "6   0.513380    0.987309  3.622487       0   0.40\n",
       "7   0.513502    0.987279  3.651494       1   0.40\n",
       "8   0.439269    0.996266  3.663967       2   0.40\n",
       "9   0.499456    0.987088  3.636815       0   0.45\n",
       "10  0.509835    0.985998  3.768516       1   0.45\n",
       "11  0.467646    0.996058  3.752264       2   0.45\n",
       "12  0.500000    0.985676  3.589127       0   0.50\n",
       "13  0.500000    0.985286  3.795014       1   0.50\n",
       "14  0.500000    0.995973  3.540494       2   0.50\n",
       "15  0.507812    0.986301  3.653402       0   0.55\n",
       "16  0.504358    0.985480  3.785260       1   0.55\n",
       "17  0.532459    0.995490  3.695850       2   0.55\n",
       "18  0.513756    0.984834  3.581373       0   0.60\n",
       "19  0.501131    0.983908  3.727102       1   0.60\n",
       "20  0.570595    0.995606  3.551669       2   0.60\n",
       "21  0.519535    0.984289  3.739749       0   0.65\n",
       "22  0.519699    0.983897  3.861608       1   0.65\n",
       "23  0.605431    0.995295  3.604347       2   0.65\n",
       "24  0.539026    0.983899  3.810217       0   0.70\n",
       "25  0.523957    0.982756  3.768564       1   0.70\n",
       "26  0.641398    0.995116  3.572266       2   0.70"
      ]
     },
     "execution_count": 9,
     "metadata": {},
     "output_type": "execute_result"
    }
   ],
   "source": [
    "data = []\n",
    "length = len(files)\n",
    "realalpha = np.linspace(0.3,0.7,9)\n",
    "#indexes = list(np.linspace(0,3*length, 3*length+1))\n",
    "for i in range(length):\n",
    "    \n",
    "   # nowindex = indexes[i:i+3]\n",
    "    d = matchlist_iter(files[i])\n",
    "    alphanow = np.zeros(len(['energy'])) + realalpha[i]\n",
    "    d['alpha'] = pd.Series(alphanow,index=d.index)\n",
    "    data.append(d)\n",
    "result = pd.concat(data,ignore_index=True)\n",
    "result\n"
   ]
  },
  {
   "cell_type": "markdown",
   "metadata": {},
   "source": [
    "Slicing result into solver methods"
   ]
  },
  {
   "cell_type": "code",
   "execution_count": 10,
   "metadata": {
    "collapsed": true
   },
   "outputs": [],
   "source": [
    "solver = [result[result.solver == 0],result[result.solver == 1],result[result.solver == 2]]\n"
   ]
  },
  {
   "cell_type": "markdown",
   "metadata": {},
   "source": [
    "### Solvers"
   ]
  },
  {
   "cell_type": "markdown",
   "metadata": {},
   "source": [
    "solver[0] = analytic solution  \n",
    "solver[1] = numerical derivation  \n",
    "solver[2] = importance sampling"
   ]
  },
  {
   "cell_type": "code",
   "execution_count": 11,
   "metadata": {},
   "outputs": [
    {
     "data": {
      "text/html": [
       "<div>\n",
       "<style>\n",
       "    .dataframe thead tr:only-child th {\n",
       "        text-align: right;\n",
       "    }\n",
       "\n",
       "    .dataframe thead th {\n",
       "        text-align: left;\n",
       "    }\n",
       "\n",
       "    .dataframe tbody tr th {\n",
       "        vertical-align: top;\n",
       "    }\n",
       "</style>\n",
       "<table border=\"1\" class=\"dataframe\">\n",
       "  <thead>\n",
       "    <tr style=\"text-align: right;\">\n",
       "      <th></th>\n",
       "      <th>energy</th>\n",
       "      <th>acceptance</th>\n",
       "      <th>timecpu</th>\n",
       "      <th>solver</th>\n",
       "      <th>alpha</th>\n",
       "    </tr>\n",
       "  </thead>\n",
       "  <tbody>\n",
       "    <tr>\n",
       "      <th>0</th>\n",
       "      <td>0.571888</td>\n",
       "      <td>0.988915</td>\n",
       "      <td>3.654440</td>\n",
       "      <td>0</td>\n",
       "      <td>0.30</td>\n",
       "    </tr>\n",
       "    <tr>\n",
       "      <th>3</th>\n",
       "      <td>0.541114</td>\n",
       "      <td>0.988016</td>\n",
       "      <td>3.530099</td>\n",
       "      <td>0</td>\n",
       "      <td>0.35</td>\n",
       "    </tr>\n",
       "    <tr>\n",
       "      <th>6</th>\n",
       "      <td>0.513380</td>\n",
       "      <td>0.987309</td>\n",
       "      <td>3.622487</td>\n",
       "      <td>0</td>\n",
       "      <td>0.40</td>\n",
       "    </tr>\n",
       "    <tr>\n",
       "      <th>9</th>\n",
       "      <td>0.499456</td>\n",
       "      <td>0.987088</td>\n",
       "      <td>3.636815</td>\n",
       "      <td>0</td>\n",
       "      <td>0.45</td>\n",
       "    </tr>\n",
       "    <tr>\n",
       "      <th>12</th>\n",
       "      <td>0.500000</td>\n",
       "      <td>0.985676</td>\n",
       "      <td>3.589127</td>\n",
       "      <td>0</td>\n",
       "      <td>0.50</td>\n",
       "    </tr>\n",
       "    <tr>\n",
       "      <th>15</th>\n",
       "      <td>0.507812</td>\n",
       "      <td>0.986301</td>\n",
       "      <td>3.653402</td>\n",
       "      <td>0</td>\n",
       "      <td>0.55</td>\n",
       "    </tr>\n",
       "    <tr>\n",
       "      <th>18</th>\n",
       "      <td>0.513756</td>\n",
       "      <td>0.984834</td>\n",
       "      <td>3.581373</td>\n",
       "      <td>0</td>\n",
       "      <td>0.60</td>\n",
       "    </tr>\n",
       "    <tr>\n",
       "      <th>21</th>\n",
       "      <td>0.519535</td>\n",
       "      <td>0.984289</td>\n",
       "      <td>3.739749</td>\n",
       "      <td>0</td>\n",
       "      <td>0.65</td>\n",
       "    </tr>\n",
       "    <tr>\n",
       "      <th>24</th>\n",
       "      <td>0.539026</td>\n",
       "      <td>0.983899</td>\n",
       "      <td>3.810217</td>\n",
       "      <td>0</td>\n",
       "      <td>0.70</td>\n",
       "    </tr>\n",
       "  </tbody>\n",
       "</table>\n",
       "</div>"
      ],
      "text/plain": [
       "      energy  acceptance   timecpu  solver  alpha\n",
       "0   0.571888    0.988915  3.654440       0   0.30\n",
       "3   0.541114    0.988016  3.530099       0   0.35\n",
       "6   0.513380    0.987309  3.622487       0   0.40\n",
       "9   0.499456    0.987088  3.636815       0   0.45\n",
       "12  0.500000    0.985676  3.589127       0   0.50\n",
       "15  0.507812    0.986301  3.653402       0   0.55\n",
       "18  0.513756    0.984834  3.581373       0   0.60\n",
       "21  0.519535    0.984289  3.739749       0   0.65\n",
       "24  0.539026    0.983899  3.810217       0   0.70"
      ]
     },
     "execution_count": 11,
     "metadata": {},
     "output_type": "execute_result"
    }
   ],
   "source": [
    "solver[0]"
   ]
  },
  {
   "cell_type": "code",
   "execution_count": 12,
   "metadata": {},
   "outputs": [
    {
     "data": {
      "text/html": [
       "<div>\n",
       "<style>\n",
       "    .dataframe thead tr:only-child th {\n",
       "        text-align: right;\n",
       "    }\n",
       "\n",
       "    .dataframe thead th {\n",
       "        text-align: left;\n",
       "    }\n",
       "\n",
       "    .dataframe tbody tr th {\n",
       "        vertical-align: top;\n",
       "    }\n",
       "</style>\n",
       "<table border=\"1\" class=\"dataframe\">\n",
       "  <thead>\n",
       "    <tr style=\"text-align: right;\">\n",
       "      <th></th>\n",
       "      <th>energy</th>\n",
       "      <th>acceptance</th>\n",
       "      <th>timecpu</th>\n",
       "      <th>solver</th>\n",
       "      <th>alpha</th>\n",
       "    </tr>\n",
       "  </thead>\n",
       "  <tbody>\n",
       "    <tr>\n",
       "      <th>1</th>\n",
       "      <td>0.539968</td>\n",
       "      <td>0.989642</td>\n",
       "      <td>3.710214</td>\n",
       "      <td>1</td>\n",
       "      <td>0.30</td>\n",
       "    </tr>\n",
       "    <tr>\n",
       "      <th>4</th>\n",
       "      <td>0.544347</td>\n",
       "      <td>0.987860</td>\n",
       "      <td>3.703977</td>\n",
       "      <td>1</td>\n",
       "      <td>0.35</td>\n",
       "    </tr>\n",
       "    <tr>\n",
       "      <th>7</th>\n",
       "      <td>0.513502</td>\n",
       "      <td>0.987279</td>\n",
       "      <td>3.651494</td>\n",
       "      <td>1</td>\n",
       "      <td>0.40</td>\n",
       "    </tr>\n",
       "    <tr>\n",
       "      <th>10</th>\n",
       "      <td>0.509835</td>\n",
       "      <td>0.985998</td>\n",
       "      <td>3.768516</td>\n",
       "      <td>1</td>\n",
       "      <td>0.45</td>\n",
       "    </tr>\n",
       "    <tr>\n",
       "      <th>13</th>\n",
       "      <td>0.500000</td>\n",
       "      <td>0.985286</td>\n",
       "      <td>3.795014</td>\n",
       "      <td>1</td>\n",
       "      <td>0.50</td>\n",
       "    </tr>\n",
       "    <tr>\n",
       "      <th>16</th>\n",
       "      <td>0.504358</td>\n",
       "      <td>0.985480</td>\n",
       "      <td>3.785260</td>\n",
       "      <td>1</td>\n",
       "      <td>0.55</td>\n",
       "    </tr>\n",
       "    <tr>\n",
       "      <th>19</th>\n",
       "      <td>0.501131</td>\n",
       "      <td>0.983908</td>\n",
       "      <td>3.727102</td>\n",
       "      <td>1</td>\n",
       "      <td>0.60</td>\n",
       "    </tr>\n",
       "    <tr>\n",
       "      <th>22</th>\n",
       "      <td>0.519699</td>\n",
       "      <td>0.983897</td>\n",
       "      <td>3.861608</td>\n",
       "      <td>1</td>\n",
       "      <td>0.65</td>\n",
       "    </tr>\n",
       "    <tr>\n",
       "      <th>25</th>\n",
       "      <td>0.523957</td>\n",
       "      <td>0.982756</td>\n",
       "      <td>3.768564</td>\n",
       "      <td>1</td>\n",
       "      <td>0.70</td>\n",
       "    </tr>\n",
       "  </tbody>\n",
       "</table>\n",
       "</div>"
      ],
      "text/plain": [
       "      energy  acceptance   timecpu  solver  alpha\n",
       "1   0.539968    0.989642  3.710214       1   0.30\n",
       "4   0.544347    0.987860  3.703977       1   0.35\n",
       "7   0.513502    0.987279  3.651494       1   0.40\n",
       "10  0.509835    0.985998  3.768516       1   0.45\n",
       "13  0.500000    0.985286  3.795014       1   0.50\n",
       "16  0.504358    0.985480  3.785260       1   0.55\n",
       "19  0.501131    0.983908  3.727102       1   0.60\n",
       "22  0.519699    0.983897  3.861608       1   0.65\n",
       "25  0.523957    0.982756  3.768564       1   0.70"
      ]
     },
     "execution_count": 12,
     "metadata": {},
     "output_type": "execute_result"
    }
   ],
   "source": [
    "solver[1]"
   ]
  },
  {
   "cell_type": "code",
   "execution_count": 13,
   "metadata": {},
   "outputs": [
    {
     "data": {
      "text/html": [
       "<div>\n",
       "<style>\n",
       "    .dataframe thead tr:only-child th {\n",
       "        text-align: right;\n",
       "    }\n",
       "\n",
       "    .dataframe thead th {\n",
       "        text-align: left;\n",
       "    }\n",
       "\n",
       "    .dataframe tbody tr th {\n",
       "        vertical-align: top;\n",
       "    }\n",
       "</style>\n",
       "<table border=\"1\" class=\"dataframe\">\n",
       "  <thead>\n",
       "    <tr style=\"text-align: right;\">\n",
       "      <th></th>\n",
       "      <th>energy</th>\n",
       "      <th>acceptance</th>\n",
       "      <th>timecpu</th>\n",
       "      <th>solver</th>\n",
       "      <th>alpha</th>\n",
       "    </tr>\n",
       "  </thead>\n",
       "  <tbody>\n",
       "    <tr>\n",
       "      <th>2</th>\n",
       "      <td>0.390369</td>\n",
       "      <td>0.996718</td>\n",
       "      <td>3.684476</td>\n",
       "      <td>2</td>\n",
       "      <td>0.30</td>\n",
       "    </tr>\n",
       "    <tr>\n",
       "      <th>5</th>\n",
       "      <td>0.410811</td>\n",
       "      <td>0.996651</td>\n",
       "      <td>3.775070</td>\n",
       "      <td>2</td>\n",
       "      <td>0.35</td>\n",
       "    </tr>\n",
       "    <tr>\n",
       "      <th>8</th>\n",
       "      <td>0.439269</td>\n",
       "      <td>0.996266</td>\n",
       "      <td>3.663967</td>\n",
       "      <td>2</td>\n",
       "      <td>0.40</td>\n",
       "    </tr>\n",
       "    <tr>\n",
       "      <th>11</th>\n",
       "      <td>0.467646</td>\n",
       "      <td>0.996058</td>\n",
       "      <td>3.752264</td>\n",
       "      <td>2</td>\n",
       "      <td>0.45</td>\n",
       "    </tr>\n",
       "    <tr>\n",
       "      <th>14</th>\n",
       "      <td>0.500000</td>\n",
       "      <td>0.995973</td>\n",
       "      <td>3.540494</td>\n",
       "      <td>2</td>\n",
       "      <td>0.50</td>\n",
       "    </tr>\n",
       "    <tr>\n",
       "      <th>17</th>\n",
       "      <td>0.532459</td>\n",
       "      <td>0.995490</td>\n",
       "      <td>3.695850</td>\n",
       "      <td>2</td>\n",
       "      <td>0.55</td>\n",
       "    </tr>\n",
       "    <tr>\n",
       "      <th>20</th>\n",
       "      <td>0.570595</td>\n",
       "      <td>0.995606</td>\n",
       "      <td>3.551669</td>\n",
       "      <td>2</td>\n",
       "      <td>0.60</td>\n",
       "    </tr>\n",
       "    <tr>\n",
       "      <th>23</th>\n",
       "      <td>0.605431</td>\n",
       "      <td>0.995295</td>\n",
       "      <td>3.604347</td>\n",
       "      <td>2</td>\n",
       "      <td>0.65</td>\n",
       "    </tr>\n",
       "    <tr>\n",
       "      <th>26</th>\n",
       "      <td>0.641398</td>\n",
       "      <td>0.995116</td>\n",
       "      <td>3.572266</td>\n",
       "      <td>2</td>\n",
       "      <td>0.70</td>\n",
       "    </tr>\n",
       "  </tbody>\n",
       "</table>\n",
       "</div>"
      ],
      "text/plain": [
       "      energy  acceptance   timecpu  solver  alpha\n",
       "2   0.390369    0.996718  3.684476       2   0.30\n",
       "5   0.410811    0.996651  3.775070       2   0.35\n",
       "8   0.439269    0.996266  3.663967       2   0.40\n",
       "11  0.467646    0.996058  3.752264       2   0.45\n",
       "14  0.500000    0.995973  3.540494       2   0.50\n",
       "17  0.532459    0.995490  3.695850       2   0.55\n",
       "20  0.570595    0.995606  3.551669       2   0.60\n",
       "23  0.605431    0.995295  3.604347       2   0.65\n",
       "26  0.641398    0.995116  3.572266       2   0.70"
      ]
     },
     "execution_count": 13,
     "metadata": {},
     "output_type": "execute_result"
    }
   ],
   "source": [
    "solver[2]"
   ]
  },
  {
   "cell_type": "code",
   "execution_count": 14,
   "metadata": {},
   "outputs": [
    {
     "ename": "SyntaxError",
     "evalue": "invalid syntax (<ipython-input-14-9c1179eba607>, line 2)",
     "output_type": "error",
     "traceback": [
      "\u001b[0;36m  File \u001b[0;32m\"<ipython-input-14-9c1179eba607>\"\u001b[0;36m, line \u001b[0;32m2\u001b[0m\n\u001b[0;31m    df_columns = [\"$n$\"] + [f\"${v}$\" for v in [r\"I_{max} [antall]\", r\"\\theta_0 [\\degree]\", r\"\\sigma_\\theta [\\degree]\", r\"I_{0} [antall]\"] ]\u001b[0m\n\u001b[0m             ^\u001b[0m\n\u001b[0;31mSyntaxError\u001b[0m\u001b[0;31m:\u001b[0m invalid syntax\n"
     ]
    }
   ],
   "source": [
    "df_colums = [f\"${v}$\" for v in [r\"\\alpha\",r\"\\langle E_L \\rangle\", r\"\\sigma_b\", r\"acceptance [\\%]\", r\"t_{CPU} [s]\"]\n",
    "df_columns = [\"$n$\"] + [f\"${v}$\" for v in [r\"I_{max} [antall]\", r\"\\theta_0 [\\degree]\", r\"\\sigma_\\theta [\\degree]\", r\"I_{0} [antall]\"] ]"
   ]
  },
  {
   "cell_type": "code",
   "execution_count": null,
   "metadata": {
    "collapsed": true
   },
   "outputs": [],
   "source": []
  },
  {
   "cell_type": "markdown",
   "metadata": {},
   "source": [
    "# Read in blocking data"
   ]
  },
  {
   "cell_type": "code",
   "execution_count": 15,
   "metadata": {
    "collapsed": true
   },
   "outputs": [],
   "source": [
    "def data_block(filename):\n",
    "    column_names = ['alpha', 'sigma_an', 'sigma_num','E_mean_an', 'E_mean_num']\n",
    "    df = pd.read_csv(filename,skiprows=4,names=column_names,delim_whitespace=True,comment='#')\n",
    "    return df"
   ]
  },
  {
   "cell_type": "code",
   "execution_count": 16,
   "metadata": {},
   "outputs": [
    {
     "data": {
      "text/html": [
       "<div>\n",
       "<style>\n",
       "    .dataframe thead tr:only-child th {\n",
       "        text-align: right;\n",
       "    }\n",
       "\n",
       "    .dataframe thead th {\n",
       "        text-align: left;\n",
       "    }\n",
       "\n",
       "    .dataframe tbody tr th {\n",
       "        vertical-align: top;\n",
       "    }\n",
       "</style>\n",
       "<table border=\"1\" class=\"dataframe\">\n",
       "  <thead>\n",
       "    <tr style=\"text-align: right;\">\n",
       "      <th></th>\n",
       "      <th>alpha</th>\n",
       "      <th>sigma_an</th>\n",
       "      <th>sigma_num</th>\n",
       "      <th>E_mean_an</th>\n",
       "      <th>E_mean_num</th>\n",
       "    </tr>\n",
       "  </thead>\n",
       "  <tbody>\n",
       "    <tr>\n",
       "      <th>0</th>\n",
       "      <td>0.30</td>\n",
       "      <td>0.138140</td>\n",
       "      <td>1.179972e-01</td>\n",
       "      <td>0.571888</td>\n",
       "      <td>0.539968</td>\n",
       "    </tr>\n",
       "    <tr>\n",
       "      <th>1</th>\n",
       "      <td>0.35</td>\n",
       "      <td>0.071833</td>\n",
       "      <td>7.167870e-02</td>\n",
       "      <td>0.541114</td>\n",
       "      <td>0.544347</td>\n",
       "    </tr>\n",
       "    <tr>\n",
       "      <th>2</th>\n",
       "      <td>0.40</td>\n",
       "      <td>0.027640</td>\n",
       "      <td>2.541967e-02</td>\n",
       "      <td>0.513380</td>\n",
       "      <td>0.513502</td>\n",
       "    </tr>\n",
       "    <tr>\n",
       "      <th>3</th>\n",
       "      <td>0.45</td>\n",
       "      <td>0.004763</td>\n",
       "      <td>7.745090e-03</td>\n",
       "      <td>0.499456</td>\n",
       "      <td>0.509835</td>\n",
       "    </tr>\n",
       "    <tr>\n",
       "      <th>4</th>\n",
       "      <td>0.50</td>\n",
       "      <td>0.000000</td>\n",
       "      <td>-8.049117e-16</td>\n",
       "      <td>0.500000</td>\n",
       "      <td>0.500000</td>\n",
       "    </tr>\n",
       "    <tr>\n",
       "      <th>5</th>\n",
       "      <td>0.55</td>\n",
       "      <td>0.003628</td>\n",
       "      <td>4.159931e-03</td>\n",
       "      <td>0.507812</td>\n",
       "      <td>0.504357</td>\n",
       "    </tr>\n",
       "    <tr>\n",
       "      <th>6</th>\n",
       "      <td>0.60</td>\n",
       "      <td>0.013992</td>\n",
       "      <td>1.878866e-02</td>\n",
       "      <td>0.513756</td>\n",
       "      <td>0.501131</td>\n",
       "    </tr>\n",
       "    <tr>\n",
       "      <th>7</th>\n",
       "      <td>0.65</td>\n",
       "      <td>0.036136</td>\n",
       "      <td>2.953130e-02</td>\n",
       "      <td>0.519535</td>\n",
       "      <td>0.519699</td>\n",
       "    </tr>\n",
       "    <tr>\n",
       "      <th>8</th>\n",
       "      <td>0.70</td>\n",
       "      <td>0.050862</td>\n",
       "      <td>5.499213e-02</td>\n",
       "      <td>0.539025</td>\n",
       "      <td>0.523957</td>\n",
       "    </tr>\n",
       "  </tbody>\n",
       "</table>\n",
       "</div>"
      ],
      "text/plain": [
       "   alpha  sigma_an     sigma_num  E_mean_an  E_mean_num\n",
       "0   0.30  0.138140  1.179972e-01   0.571888    0.539968\n",
       "1   0.35  0.071833  7.167870e-02   0.541114    0.544347\n",
       "2   0.40  0.027640  2.541967e-02   0.513380    0.513502\n",
       "3   0.45  0.004763  7.745090e-03   0.499456    0.509835\n",
       "4   0.50  0.000000 -8.049117e-16   0.500000    0.500000\n",
       "5   0.55  0.003628  4.159931e-03   0.507812    0.504357\n",
       "6   0.60  0.013992  1.878866e-02   0.513756    0.501131\n",
       "7   0.65  0.036136  2.953130e-02   0.519535    0.519699\n",
       "8   0.70  0.050862  5.499213e-02   0.539025    0.523957"
      ]
     },
     "execution_count": 16,
     "metadata": {},
     "output_type": "execute_result"
    }
   ],
   "source": [
    "block = data_block('b_n1_d1/b_n1_d1_blocking.dat')\n",
    "block"
   ]
  },
  {
   "cell_type": "code",
   "execution_count": null,
   "metadata": {
    "collapsed": true
   },
   "outputs": [],
   "source": []
  },
  {
   "cell_type": "markdown",
   "metadata": {},
   "source": [
    "#### Analytical data"
   ]
  },
  {
   "cell_type": "code",
   "execution_count": 17,
   "metadata": {
    "scrolled": true
   },
   "outputs": [
    {
     "data": {
      "text/html": [
       "<div>\n",
       "<style>\n",
       "    .dataframe thead tr:only-child th {\n",
       "        text-align: right;\n",
       "    }\n",
       "\n",
       "    .dataframe thead th {\n",
       "        text-align: left;\n",
       "    }\n",
       "\n",
       "    .dataframe tbody tr th {\n",
       "        vertical-align: top;\n",
       "    }\n",
       "</style>\n",
       "<table border=\"1\" class=\"dataframe\">\n",
       "  <thead>\n",
       "    <tr style=\"text-align: right;\">\n",
       "      <th></th>\n",
       "      <th>alpha</th>\n",
       "      <th>E_mean_an</th>\n",
       "      <th>sigma_an</th>\n",
       "      <th>acceptance</th>\n",
       "      <th>timecpu</th>\n",
       "    </tr>\n",
       "  </thead>\n",
       "  <tbody>\n",
       "    <tr>\n",
       "      <th>0</th>\n",
       "      <td>0.30</td>\n",
       "      <td>0.571888</td>\n",
       "      <td>0.138140</td>\n",
       "      <td>0.988915</td>\n",
       "      <td>3.654440</td>\n",
       "    </tr>\n",
       "    <tr>\n",
       "      <th>1</th>\n",
       "      <td>0.35</td>\n",
       "      <td>0.541114</td>\n",
       "      <td>0.071833</td>\n",
       "      <td>0.988016</td>\n",
       "      <td>3.530099</td>\n",
       "    </tr>\n",
       "    <tr>\n",
       "      <th>2</th>\n",
       "      <td>0.40</td>\n",
       "      <td>0.513380</td>\n",
       "      <td>0.027640</td>\n",
       "      <td>0.987309</td>\n",
       "      <td>3.622487</td>\n",
       "    </tr>\n",
       "    <tr>\n",
       "      <th>3</th>\n",
       "      <td>0.45</td>\n",
       "      <td>0.499456</td>\n",
       "      <td>0.004763</td>\n",
       "      <td>0.987088</td>\n",
       "      <td>3.636815</td>\n",
       "    </tr>\n",
       "    <tr>\n",
       "      <th>4</th>\n",
       "      <td>0.50</td>\n",
       "      <td>0.500000</td>\n",
       "      <td>0.000000</td>\n",
       "      <td>0.985676</td>\n",
       "      <td>3.589127</td>\n",
       "    </tr>\n",
       "    <tr>\n",
       "      <th>5</th>\n",
       "      <td>0.55</td>\n",
       "      <td>0.507812</td>\n",
       "      <td>0.003628</td>\n",
       "      <td>0.986301</td>\n",
       "      <td>3.653402</td>\n",
       "    </tr>\n",
       "    <tr>\n",
       "      <th>6</th>\n",
       "      <td>0.60</td>\n",
       "      <td>0.513756</td>\n",
       "      <td>0.013992</td>\n",
       "      <td>0.984834</td>\n",
       "      <td>3.581373</td>\n",
       "    </tr>\n",
       "    <tr>\n",
       "      <th>7</th>\n",
       "      <td>0.65</td>\n",
       "      <td>0.519535</td>\n",
       "      <td>0.036136</td>\n",
       "      <td>0.984289</td>\n",
       "      <td>3.739749</td>\n",
       "    </tr>\n",
       "    <tr>\n",
       "      <th>8</th>\n",
       "      <td>0.70</td>\n",
       "      <td>0.539025</td>\n",
       "      <td>0.050862</td>\n",
       "      <td>0.983899</td>\n",
       "      <td>3.810217</td>\n",
       "    </tr>\n",
       "  </tbody>\n",
       "</table>\n",
       "</div>"
      ],
      "text/plain": [
       "   alpha  E_mean_an  sigma_an  acceptance   timecpu\n",
       "0   0.30   0.571888  0.138140    0.988915  3.654440\n",
       "1   0.35   0.541114  0.071833    0.988016  3.530099\n",
       "2   0.40   0.513380  0.027640    0.987309  3.622487\n",
       "3   0.45   0.499456  0.004763    0.987088  3.636815\n",
       "4   0.50   0.500000  0.000000    0.985676  3.589127\n",
       "5   0.55   0.507812  0.003628    0.986301  3.653402\n",
       "6   0.60   0.513756  0.013992    0.984834  3.581373\n",
       "7   0.65   0.519535  0.036136    0.984289  3.739749\n",
       "8   0.70   0.539025  0.050862    0.983899  3.810217"
      ]
     },
     "execution_count": 17,
     "metadata": {},
     "output_type": "execute_result"
    }
   ],
   "source": [
    "a = solver[0]\n",
    "#reset index \n",
    "\n",
    "a = a.reset_index(drop=True)\n",
    "analytic = pd.concat([block[['alpha','E_mean_an','sigma_an']],a[['acceptance','timecpu']]],axis=1)\n",
    "analytic"
   ]
  },
  {
   "cell_type": "code",
   "execution_count": null,
   "metadata": {
    "collapsed": true
   },
   "outputs": [],
   "source": []
  },
  {
   "cell_type": "markdown",
   "metadata": {},
   "source": [
    "#### Numerical data"
   ]
  },
  {
   "cell_type": "code",
   "execution_count": 18,
   "metadata": {},
   "outputs": [
    {
     "data": {
      "text/html": [
       "<div>\n",
       "<style>\n",
       "    .dataframe thead tr:only-child th {\n",
       "        text-align: right;\n",
       "    }\n",
       "\n",
       "    .dataframe thead th {\n",
       "        text-align: left;\n",
       "    }\n",
       "\n",
       "    .dataframe tbody tr th {\n",
       "        vertical-align: top;\n",
       "    }\n",
       "</style>\n",
       "<table border=\"1\" class=\"dataframe\">\n",
       "  <thead>\n",
       "    <tr style=\"text-align: right;\">\n",
       "      <th></th>\n",
       "      <th>alpha</th>\n",
       "      <th>E_mean_num</th>\n",
       "      <th>sigma_num</th>\n",
       "      <th>acceptance</th>\n",
       "      <th>timecpu</th>\n",
       "    </tr>\n",
       "  </thead>\n",
       "  <tbody>\n",
       "    <tr>\n",
       "      <th>0</th>\n",
       "      <td>0.30</td>\n",
       "      <td>0.539968</td>\n",
       "      <td>1.179972e-01</td>\n",
       "      <td>0.988915</td>\n",
       "      <td>3.654440</td>\n",
       "    </tr>\n",
       "    <tr>\n",
       "      <th>1</th>\n",
       "      <td>0.35</td>\n",
       "      <td>0.544347</td>\n",
       "      <td>7.167870e-02</td>\n",
       "      <td>0.988016</td>\n",
       "      <td>3.530099</td>\n",
       "    </tr>\n",
       "    <tr>\n",
       "      <th>2</th>\n",
       "      <td>0.40</td>\n",
       "      <td>0.513502</td>\n",
       "      <td>2.541967e-02</td>\n",
       "      <td>0.987309</td>\n",
       "      <td>3.622487</td>\n",
       "    </tr>\n",
       "    <tr>\n",
       "      <th>3</th>\n",
       "      <td>0.45</td>\n",
       "      <td>0.509835</td>\n",
       "      <td>7.745090e-03</td>\n",
       "      <td>0.987088</td>\n",
       "      <td>3.636815</td>\n",
       "    </tr>\n",
       "    <tr>\n",
       "      <th>4</th>\n",
       "      <td>0.50</td>\n",
       "      <td>0.500000</td>\n",
       "      <td>-8.049117e-16</td>\n",
       "      <td>0.985676</td>\n",
       "      <td>3.589127</td>\n",
       "    </tr>\n",
       "    <tr>\n",
       "      <th>5</th>\n",
       "      <td>0.55</td>\n",
       "      <td>0.504357</td>\n",
       "      <td>4.159931e-03</td>\n",
       "      <td>0.986301</td>\n",
       "      <td>3.653402</td>\n",
       "    </tr>\n",
       "    <tr>\n",
       "      <th>6</th>\n",
       "      <td>0.60</td>\n",
       "      <td>0.501131</td>\n",
       "      <td>1.878866e-02</td>\n",
       "      <td>0.984834</td>\n",
       "      <td>3.581373</td>\n",
       "    </tr>\n",
       "    <tr>\n",
       "      <th>7</th>\n",
       "      <td>0.65</td>\n",
       "      <td>0.519699</td>\n",
       "      <td>2.953130e-02</td>\n",
       "      <td>0.984289</td>\n",
       "      <td>3.739749</td>\n",
       "    </tr>\n",
       "    <tr>\n",
       "      <th>8</th>\n",
       "      <td>0.70</td>\n",
       "      <td>0.523957</td>\n",
       "      <td>5.499213e-02</td>\n",
       "      <td>0.983899</td>\n",
       "      <td>3.810217</td>\n",
       "    </tr>\n",
       "  </tbody>\n",
       "</table>\n",
       "</div>"
      ],
      "text/plain": [
       "   alpha  E_mean_num     sigma_num  acceptance   timecpu\n",
       "0   0.30    0.539968  1.179972e-01    0.988915  3.654440\n",
       "1   0.35    0.544347  7.167870e-02    0.988016  3.530099\n",
       "2   0.40    0.513502  2.541967e-02    0.987309  3.622487\n",
       "3   0.45    0.509835  7.745090e-03    0.987088  3.636815\n",
       "4   0.50    0.500000 -8.049117e-16    0.985676  3.589127\n",
       "5   0.55    0.504357  4.159931e-03    0.986301  3.653402\n",
       "6   0.60    0.501131  1.878866e-02    0.984834  3.581373\n",
       "7   0.65    0.519699  2.953130e-02    0.984289  3.739749\n",
       "8   0.70    0.523957  5.499213e-02    0.983899  3.810217"
      ]
     },
     "execution_count": 18,
     "metadata": {},
     "output_type": "execute_result"
    }
   ],
   "source": [
    "n = solver[0]\n",
    "n = n.reset_index(drop=True)\n",
    "numerical = pd.concat([block[['alpha','E_mean_num','sigma_num']],n[['acceptance','timecpu']]],axis=1)\n",
    "numerical"
   ]
  },
  {
   "cell_type": "code",
   "execution_count": null,
   "metadata": {
    "collapsed": true
   },
   "outputs": [],
   "source": []
  },
  {
   "cell_type": "markdown",
   "metadata": {
    "collapsed": true
   },
   "source": [
    "#### Tables to latex format"
   ]
  },
  {
   "cell_type": "code",
   "execution_count": 19,
   "metadata": {
    "collapsed": true
   },
   "outputs": [],
   "source": [
    "df_columns = [f\"${v}$\" for v in [r\"\\alpha\",r\"\\langle E_L \\rangle\", r\"\\sigma_b\", r\"\\text{acceptance } [\\%]\", r\"t_{CPU} [s]\"]]"
   ]
  },
  {
   "cell_type": "code",
   "execution_count": 23,
   "metadata": {
    "collapsed": true
   },
   "outputs": [],
   "source": [
    "def latex(df,colname):\n",
    "    df = df.rename(columns=dict(zip(df, colname)))\n",
    "    table = df.to_latex(index=False,escape=False,column_format=(1+ len(colname))*'c')\n",
    "    table = table.replace(\"toprule\", \"hline \\hline\")\n",
    "    table = table.replace(\"bottomrule\", \"hline \\hline\")\n",
    "    table = table.replace(\"midrule\", \"hline\")\n",
    "    return table"
   ]
  },
  {
   "cell_type": "code",
   "execution_count": 24,
   "metadata": {},
   "outputs": [
    {
     "name": "stdout",
     "output_type": "stream",
     "text": [
      "\\begin{tabular}{cccccc}\n",
      "\\hline \\hline\n",
      " $\\alpha$ &  $\\langle E_L \\rangle$ &  $\\sigma_b$ &  $acceptance [\\%]$ &  $t_{CPU} [s]$ \\\\\n",
      "\\hline\n",
      "     0.30 &               0.571888 &    0.138140 &           0.988915 &       3.654440 \\\\\n",
      "     0.35 &               0.541114 &    0.071833 &           0.988016 &       3.530099 \\\\\n",
      "     0.40 &               0.513380 &    0.027640 &           0.987309 &       3.622487 \\\\\n",
      "     0.45 &               0.499456 &    0.004763 &           0.987088 &       3.636815 \\\\\n",
      "     0.50 &               0.500000 &    0.000000 &           0.985676 &       3.589127 \\\\\n",
      "     0.55 &               0.507812 &    0.003628 &           0.986301 &       3.653402 \\\\\n",
      "     0.60 &               0.513756 &    0.013992 &           0.984834 &       3.581373 \\\\\n",
      "     0.65 &               0.519535 &    0.036136 &           0.984289 &       3.739749 \\\\\n",
      "     0.70 &               0.539025 &    0.050862 &           0.983899 &       3.810217 \\\\\n",
      "\\hline \\hline\n",
      "\\end{tabular}\n",
      "\n"
     ]
    }
   ],
   "source": [
    "t = latex(analytic,df_columns)\n",
    "print(t)"
   ]
  },
  {
   "cell_type": "code",
   "execution_count": 28,
   "metadata": {},
   "outputs": [
    {
     "data": {
      "text/plain": [
       "[<matplotlib.lines.Line2D at 0x7fc089439f98>]"
      ]
     },
     "execution_count": 28,
     "metadata": {},
     "output_type": "execute_result"
    },
    {
     "data": {
      "image/png": "[encoded data removed]",
      "text/plain": [
       "<matplotlib.figure.Figure at 0x7fc089439e10>"
      ]
     },
     "metadata": {},
     "output_type": "display_data"
    }
   ],
   "source": [
    "\n",
    "plt.plot(analytic['alpha'],analytic['E_mean_an'],'ro-')\n",
    "plt.plot(numerical['alpha'],numerical['E_mean_num'],'bo-')"
   ]
  },
  {
   "cell_type": "code",
   "execution_count": null,
   "metadata": {
    "collapsed": true
   },
   "outputs": [],
   "source": []
  },
  {
   "cell_type": "code",
   "execution_count": null,
   "metadata": {
    "collapsed": true
   },
   "outputs": [],
   "source": []
  },
  {
   "cell_type": "code",
   "execution_count": null,
   "metadata": {
    "collapsed": true
   },
   "outputs": [],
   "source": []
  },
  {
   "cell_type": "code",
   "execution_count": null,
   "metadata": {
    "collapsed": true
   },
   "outputs": [],
   "source": []
  },
  {
   "cell_type": "code",
   "execution_count": null,
   "metadata": {
    "collapsed": true
   },
   "outputs": [],
   "source": []
  },
  {
   "cell_type": "code",
   "execution_count": null,
   "metadata": {
    "collapsed": true
   },
   "outputs": [],
   "source": []
  },
  {
   "cell_type": "code",
   "execution_count": null,
   "metadata": {
    "collapsed": true
   },
   "outputs": [],
   "source": []
  },
  {
   "cell_type": "code",
   "execution_count": null,
   "metadata": {
    "collapsed": true
   },
   "outputs": [],
   "source": []
  },
  {
   "cell_type": "code",
   "execution_count": null,
   "metadata": {
    "collapsed": true
   },
   "outputs": [],
   "source": []
  },
  {
   "cell_type": "code",
   "execution_count": null,
   "metadata": {
    "collapsed": true
   },
   "outputs": [],
   "source": []
  },
  {
   "cell_type": "code",
   "execution_count": null,
   "metadata": {
    "collapsed": true
   },
   "outputs": [],
   "source": []
  },
  {
   "cell_type": "code",
   "execution_count": null,
   "metadata": {
    "collapsed": true
   },
   "outputs": [],
   "source": []
  },
  {
   "cell_type": "code",
   "execution_count": null,
   "metadata": {
    "collapsed": true
   },
   "outputs": [],
   "source": []
  },
  {
   "cell_type": "code",
   "execution_count": null,
   "metadata": {
    "collapsed": true
   },
   "outputs": [],
   "source": []
  },
  {
   "cell_type": "code",
   "execution_count": null,
   "metadata": {
    "collapsed": true
   },
   "outputs": [],
   "source": []
  },
  {
   "cell_type": "code",
   "execution_count": null,
   "metadata": {
    "collapsed": true
   },
   "outputs": [],
   "source": []
  },
  {
   "cell_type": "code",
   "execution_count": null,
   "metadata": {
    "collapsed": true
   },
   "outputs": [],
   "source": []
  },
  {
   "cell_type": "code",
   "execution_count": null,
   "metadata": {
    "collapsed": true
   },
   "outputs": [],
   "source": []
  },
  {
   "cell_type": "code",
   "execution_count": null,
   "metadata": {
    "collapsed": true
   },
   "outputs": [],
   "source": []
  },
  {
   "cell_type": "code",
   "execution_count": null,
   "metadata": {
    "collapsed": true
   },
   "outputs": [],
   "source": []
  },
  {
   "cell_type": "code",
   "execution_count": null,
   "metadata": {
    "collapsed": true
   },
   "outputs": [],
   "source": []
  },
  {
   "cell_type": "code",
   "execution_count": null,
   "metadata": {
    "collapsed": true
   },
   "outputs": [],
   "source": []
  },
  {
   "cell_type": "code",
   "execution_count": null,
   "metadata": {
    "collapsed": true
   },
   "outputs": [],
   "source": []
  },
  {
   "cell_type": "code",
   "execution_count": null,
   "metadata": {
    "collapsed": true
   },
   "outputs": [],
   "source": []
  },
  {
   "cell_type": "code",
   "execution_count": null,
   "metadata": {
    "collapsed": true
   },
   "outputs": [],
   "source": []
  },
  {
   "cell_type": "code",
   "execution_count": null,
   "metadata": {
    "collapsed": true
   },
   "outputs": [],
   "source": []
  },
  {
   "cell_type": "code",
   "execution_count": null,
   "metadata": {
    "collapsed": true
   },
   "outputs": [],
   "source": []
  },
  {
   "cell_type": "code",
   "execution_count": null,
   "metadata": {
    "collapsed": true
   },
   "outputs": [],
   "source": []
  },
  {
   "cell_type": "code",
   "execution_count": null,
   "metadata": {
    "collapsed": true
   },
   "outputs": [],
   "source": []
  },
  {
   "cell_type": "code",
   "execution_count": null,
   "metadata": {
    "collapsed": true
   },
   "outputs": [],
   "source": []
  },
  {
   "cell_type": "code",
   "execution_count": null,
   "metadata": {
    "collapsed": true
   },
   "outputs": [],
   "source": []
  },
  {
   "cell_type": "code",
   "execution_count": null,
   "metadata": {
    "collapsed": true
   },
   "outputs": [],
   "source": []
  },
  {
   "cell_type": "code",
   "execution_count": null,
   "metadata": {
    "collapsed": true
   },
   "outputs": [],
   "source": []
  },
  {
   "cell_type": "code",
   "execution_count": null,
   "metadata": {
    "collapsed": true
   },
   "outputs": [],
   "source": []
  },
  {
   "cell_type": "code",
   "execution_count": null,
   "metadata": {
    "collapsed": true
   },
   "outputs": [],
   "source": []
  },
  {
   "cell_type": "code",
   "execution_count": null,
   "metadata": {
    "collapsed": true
   },
   "outputs": [],
   "source": []
  },
  {
   "cell_type": "code",
   "execution_count": null,
   "metadata": {
    "collapsed": true
   },
   "outputs": [],
   "source": []
  },
  {
   "cell_type": "code",
   "execution_count": null,
   "metadata": {
    "collapsed": true
   },
   "outputs": [],
   "source": []
  },
  {
   "cell_type": "code",
   "execution_count": null,
   "metadata": {
    "collapsed": true
   },
   "outputs": [],
   "source": []
  },
  {
   "cell_type": "code",
   "execution_count": null,
   "metadata": {
    "collapsed": true
   },
   "outputs": [],
   "source": []
  },
  {
   "cell_type": "code",
   "execution_count": null,
   "metadata": {
    "collapsed": true
   },
   "outputs": [],
   "source": []
  },
  {
   "cell_type": "code",
   "execution_count": null,
   "metadata": {
    "collapsed": true
   },
   "outputs": [],
   "source": []
  },
  {
   "cell_type": "code",
   "execution_count": null,
   "metadata": {
    "collapsed": true
   },
   "outputs": [],
   "source": []
  },
  {
   "cell_type": "code",
   "execution_count": null,
   "metadata": {
    "collapsed": true
   },
   "outputs": [],
   "source": []
  },
  {
   "cell_type": "code",
   "execution_count": null,
   "metadata": {
    "collapsed": true
   },
   "outputs": [],
   "source": []
  },
  {
   "cell_type": "code",
   "execution_count": null,
   "metadata": {
    "collapsed": true
   },
   "outputs": [],
   "source": []
  },
  {
   "cell_type": "code",
   "execution_count": null,
   "metadata": {
    "collapsed": true
   },
   "outputs": [],
   "source": []
  },
  {
   "cell_type": "code",
   "execution_count": null,
   "metadata": {
    "collapsed": true
   },
   "outputs": [],
   "source": []
  },
  {
   "cell_type": "code",
   "execution_count": null,
   "metadata": {
    "collapsed": true
   },
   "outputs": [],
   "source": []
  },
  {
   "cell_type": "code",
   "execution_count": null,
   "metadata": {
    "collapsed": true
   },
   "outputs": [],
   "source": []
  },
  {
   "cell_type": "code",
   "execution_count": null,
   "metadata": {
    "collapsed": true
   },
   "outputs": [],
   "source": []
  },
  {
   "cell_type": "code",
   "execution_count": null,
   "metadata": {
    "collapsed": true
   },
   "outputs": [],
   "source": []
  },
  {
   "cell_type": "code",
   "execution_count": null,
   "metadata": {
    "collapsed": true
   },
   "outputs": [],
   "source": []
  },
  {
   "cell_type": "code",
   "execution_count": null,
   "metadata": {
    "collapsed": true
   },
   "outputs": [],
   "source": []
  },
  {
   "cell_type": "code",
   "execution_count": null,
   "metadata": {
    "collapsed": true
   },
   "outputs": [],
   "source": []
  },
  {
   "cell_type": "code",
   "execution_count": null,
   "metadata": {
    "collapsed": true
   },
   "outputs": [],
   "source": []
  }
 ],
 "metadata": {
  "kernelspec": {
   "display_name": "Python 3",
   "language": "python",
   "name": "python3"
  },
  "language_info": {
   "codemirror_mode": {
    "name": "ipython",
    "version": 3
   },
   "file_extension": ".py",
   "mimetype": "text/x-python",
   "name": "python",
   "nbconvert_exporter": "python",
   "pygments_lexer": "ipython3",
   "version": "3.6.3"
  }
 },
 "nbformat": 4,
 "nbformat_minor": 2
}
